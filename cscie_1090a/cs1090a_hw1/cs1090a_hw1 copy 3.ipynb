{
 "cells": [
  {
   "cell_type": "code",
   "execution_count": 81,
   "id": "fb6eb141",
   "metadata": {
    "deletable": false,
    "editable": false
   },
   "outputs": [],
   "source": [
    "# Initialize Otter\n",
    "import otter\n",
    "grader = otter.Notebook(\"cs1090a_hw1.ipynb\")"
   ]
  },
  {
   "cell_type": "markdown",
   "id": "7e3f31b6-e021-4842-b0ac-5fca2c0b4e92",
   "metadata": {},
   "source": [
    "# <img style=\"float: left; padding-right: 10px; width: 45px\" src=\"https://raw.githubusercontent.com/Harvard-IACS/2018-CS109A/master/content/styles/iacs.png\"> CS1090A Introduction to Data Science\n",
    "## Homework 1: Webscraping, Pandas, and EDA\n",
    "\n",
    "**Harvard University**<br/>\n",
    "**Fall 2025**<br/>\n",
    "**Instructors**: Pavlos Protopapas, Kevin Rader, and Chris Gumb\n",
    "\n",
    "<hr style=\"height:2.4pt\">"
   ]
  },
  {
   "cell_type": "code",
   "execution_count": 82,
   "id": "0a6edac1-4b76-49be-8c7b-c67fc4dc959d",
   "metadata": {},
   "outputs": [],
   "source": [
    "import requests\n",
    "from bs4 import BeautifulSoup\n",
    "import numpy as np\n",
    "import pandas as pd\n",
    "import pyarrow as pa # optional\n",
    "import seaborn as sns\n",
    "import matplotlib.pyplot as plt\n",
    "import re\n",
    "import io\n",
    "import os.path\n",
    "import json\n",
    "import time\n",
    "import glob\n",
    "# import asyncio # optional\n",
    "import aiohttp # optional\n",
    "from IPython.core.display import HTML\n",
    "from IPython import display\n",
    "\n",
    "import wikipedia\n",
    "from wikipedia.exceptions import DisambiguationError, PageError\n",
    "\n",
    "import pandas as pd\n",
    "from concurrent.futures import ThreadPoolExecutor\n",
    "# import asyncio\n",
    "from collections import defaultdict\n",
    "\n",
    "from threading import Lock"
   ]
  },
  {
   "cell_type": "code",
   "execution_count": 83,
   "id": "0bc3ec48-8dcd-4da4-b996-e2142edabd96",
   "metadata": {},
   "outputs": [],
   "source": [
    "# For calculating total notebook runtime\n",
    "notebook_start = time.time()"
   ]
  },
  {
   "cell_type": "code",
   "execution_count": 84,
   "id": "5cf897cf-d166-44a9-b2cb-f25dfaf0ed46",
   "metadata": {},
   "outputs": [
    {
     "data": {
      "text/html": [
       "<style>\n",
       "h3, h4 {\n",
       "    background-color: #7efcf5;\n",
       "    border-left: 5px solid #7ec4fc;\n",
       "    border-right: 5px solid #7ec4fc;\n",
       "    padding: 0em;\n",
       "}\n",
       "h3 {\n",
       "    background-color: #7efcf5;\n",
       "    border-top: 5px solid #7ec4fc;\n",
       "    border-left: 5px solid #7ec4fc;\n",
       "    border-right: 5px solid #7ec4fc;\n",
       "    padding: 0.5em;\n",
       "}\n",
       "p {\n",
       "    padding: 0.5em;\n",
       "    max-width: 34em;\n",
       "    font-weight:400;\n",
       "}\n",
       ".md {\n",
       "    max-width: 80ch;\n",
       "\n",
       "}\n",
       ".prompt {    \n",
       "    background-color: lightgreen;\n",
       "    border-color: #dFb5b4;\n",
       "    border-left: 5px solid #f57efc;\n",
       "    padding: 0.5em;\n",
       "    font-weight:500;\n",
       "    }\n",
       " </style>"
      ],
      "text/plain": [
       "<IPython.core.display.HTML object>"
      ]
     },
     "execution_count": 84,
     "metadata": {},
     "output_type": "execute_result"
    }
   ],
   "source": [
    "style = '''<style>\n",
    "h3, h4 {\n",
    "    background-color: #7efcf5;\n",
    "    border-left: 5px solid #7ec4fc;\n",
    "    border-right: 5px solid #7ec4fc;\n",
    "    padding: 0em;\n",
    "}\n",
    "h3 {\n",
    "    background-color: #7efcf5;\n",
    "    border-top: 5px solid #7ec4fc;\n",
    "    border-left: 5px solid #7ec4fc;\n",
    "    border-right: 5px solid #7ec4fc;\n",
    "    padding: 0.5em;\n",
    "}\n",
    "p {\n",
    "    padding: 0.5em;\n",
    "    max-width: 34em;\n",
    "    font-weight:400;\n",
    "}\n",
    ".md {\n",
    "    max-width: 80ch;\n",
    "\n",
    "}\n",
    ".prompt {    \n",
    "    background-color: lightgreen;\n",
    "    border-color: #dFb5b4;\n",
    "    border-left: 5px solid #f57efc;\n",
    "    padding: 0.5em;\n",
    "    font-weight:500;\n",
    "    }\n",
    " </style>'''\n",
    "HTML(style)"
   ]
  },
  {
   "cell_type": "markdown",
   "id": "e36ef44b-e503-42a2-8dee-44e1d8bbbbf3",
   "metadata": {},
   "source": [
    "## Assignment Overview\n",
    "\n",
    "You'll be working with data from screenboston.com, a website that aggregates movie screenings from various theaters in the Boston area. Your task is to collect this data, enrich it with information from Wikipedia, and then analyze and visualize the results.\n",
    "\n",
    "## Assignment Structure\n",
    "\n",
    "The assignment is divided into 8 main questions, each building upon the previous ones, followed by a wrap-up:\n",
    "\n",
    "1. Fetching HTML from screenboston.com (10 pts)\n",
    "2. Parsing HTML into structured data (15 pts)\n",
    "3. Augmenting data with historical snapshots (15 pts)\n",
    "4. Creating and manipulating a Pandas DataFrame (15 pts)\n",
    "5. Initial exploratory data analysis and visualization (15 pts)\n",
    "6. Finding Wikipedia pages for each screened film (7 pts)\n",
    "7. Storing Wikipedia HTML in the DataFrame (3 pts)\n",
    "8. Extracting and analyzing data from Wikipedia pages (15 pts)\n",
    "9. Wrap-up (5 pts)\n",
    "\n",
    "As you progress through these steps, you'll be transforming raw web data into a rich dataset ready for analysis. By the end, you'll have created a comprehensive overview of Boston's movie screening landscape, potentially uncovering interesting trends and patterns in the process. "
   ]
  },
  {
   "cell_type": "markdown",
   "id": "4d85b37d-d1b3-4575-971c-06c6006578eb",
   "metadata": {},
   "source": [
    "<div style = \"background: lightgreen; border: thin solid black; border-radius: 2px; padding: 5px\">\n",
    "\n",
    "### Instructions\n",
    "- To submit your notebook, follow the instructions given in on the Canvas assignment page.\n",
    "- Plots should be legible and interpretable *without having to refer to the code that generated them*. They should include labels for the $x$- and $y$-axes as well as a descriptive title and/or legend when appropriate.\n",
    "- When asked to interpret a visualization, do not simply describe it (e.g., \"the curve has a steep slope up\"), but instead explain what you believe the plot *means*.\n",
    "- Autograding tests are mostly to help you debug. The tests are not exhaustive so simply passing all tests may not be sufficient for full credit.\n",
    "- The use of *extremely* inefficient or error-prone code (e.g., copy-pasting nearly identical commands rather than looping) may result in only partial credit.\n",
    "- We have tried to include all the libraries you may need to do the assignment in the imports cell provided below. Please get course staff approval before importing any additional 3rd party libraries.\n",
    "- Enable scrolling output on cells with very long output. Or better yet, avoid overly long output altogether.\n",
    "- Feel free to add additional code or markdown cells as needed.\n",
    "- Don't forget to include a written response when one is requested by a question prompt.\n",
    "- Ensure your code runs top to bottom without error and passes all tests by restarting the kernel and running all cells (note that this can take a few minutes). \n",
    "- **You should do a \"Restart Kernel and Run All Cells\" before submitting to ensure (1) your notebook actually runs and (2) all output is visible**\n",
    "</div>"
   ]
  },
  {
   "cell_type": "markdown",
   "id": "4c06254d-bdbc-44e3-8c98-cdda42b0aab5",
   "metadata": {
    "deletable": false,
    "editable": false
   },
   "source": [
    "\n",
    "<div class=md>\n",
    "<h3>1. Getting HTML from screenboston.com</h3>\n",
    "\n",
    "<p>Our first step is to get the HTML content from the page at screenboston.com for analysis. To avoid having to make unnecessary future requests, you should write the content to disk.</p>\n",
    "\n",
    "\n",
    "\n",
    "<div class=prompt>\n",
    "    \n",
    "1. Use the `requests` library to get the html located at screenboston.com.\n",
    "1. Save it in the file `data/html/screenboston.html`.\n",
    "\n",
    "**Your code should only make an HTTP request if the file does not already exist.** \n",
    "\n",
    "**Hint:** the `os.path.isfile()` function can be used check if a file exists.\n",
    "</div>\n",
    "</div>\n"
   ]
  },
  {
   "cell_type": "code",
   "execution_count": 85,
   "id": "b0c2f172-b4f3-49c7-8544-cdf6ae0e33b9",
   "metadata": {
    "scrolled": true,
    "tags": [
     "otter_answer_cell"
    ]
   },
   "outputs": [],
   "source": [
    "def read_file(filename: str):\n",
    "    if not os.path.isfile(filename):\n",
    "        return \"\"\n",
    "        \n",
    "    with open(filename, 'r', encoding='utf-8') as f:\n",
    "        return f.read()\n",
    "    \n",
    "def write_file(filename: str, content: str):\n",
    "    with open(filename, 'w', encoding='utf-8') as f:\n",
    "        f.write(content)\n",
    "        \n",
    "def fetch_html_data(url: str, filename: str):\n",
    "    response = requests.get(url)\n",
    "    response.raise_for_status()\n",
    "    \n",
    "    html_content = response.text\n",
    "    write_file(filename, html_content)\n",
    "    \n",
    "    return html_content\n",
    "\n",
    "def load_movie_info():\n",
    "    filename = 'data/html/screenboston.html'\n",
    "    content = read_file(filename)\n",
    "    \n",
    "    if content:\n",
    "        return content\n",
    "    \n",
    "    url = 'https://screenboston.com/'\n",
    "    try:\n",
    "        content = fetch_html_data(url, filename)\n",
    "    except Exception as e:\n",
    "        print(f\"[Error] Failed to fetch data from {url}: {e}\")\n",
    "    \n",
    "    return content\n",
    "            \n",
    "html_content = load_movie_info()"
   ]
  },
  {
   "cell_type": "code",
   "execution_count": 86,
   "id": "c01ea31b",
   "metadata": {
    "deletable": false,
    "editable": false
   },
   "outputs": [
    {
     "data": {
      "text/html": [
       "<p><strong><pre style='display: inline;'>q1</pre></strong> passed! 🎉</p>"
      ],
      "text/plain": [
       "q1 results: All test cases passed!"
      ]
     },
     "execution_count": 86,
     "metadata": {},
     "output_type": "execute_result"
    }
   ],
   "source": [
    "grader.check(\"q1\")"
   ]
  },
  {
   "cell_type": "markdown",
   "id": "06e2b4b1-3614-4d82-8f58-4e4a49168b31",
   "metadata": {
    "deletable": false,
    "editable": false
   },
   "source": [
    "<div class=md>\n",
    "<h3>2. Parsing HTML into an Efficient Data Structure</h3>\n",
    "\n",
    "<p>Were you to open this HTML file in an editor, you'd find it wouldn't make for light reading.\n",
    "There's a lot of text in there, but we're currently only interested in a small portion of it. Thankfully, this small portion's constituant occurances appear in a mostly predictable way.\n",
    "</p>\n",
    "\n",
    "<div class='prompt'>\n",
    "1. Parse the HTML page to produce an iterable of dictionaries called <code>movies</code>. Here is one possible example:\n",
    "<div style=\"max-width:30em;padding:1em\">\n",
    "    \n",
    "```python\n",
    "{'title': 'Monty Python and the Holy Grail',\n",
    " 'directors': 'Terry Jones, Terry Gilliam',\n",
    " 'year': 1975,\n",
    " 'genre': 'Adventure',\n",
    " 'runtime': '1h 31m',\n",
    " 'theater': 'Coolidge Corner Theater',\n",
    " 'screen_date': '2024-08-17'\n",
    " 'screen_times': '11:59 PM'}\n",
    "```\n",
    "</div>\n",
    "\n",
    "2. Report the number of dictionaries in your iterable.\n",
    "3. Display an example dictionary.\n",
    "</div>\n",
    "\n",
    "<p>\n",
    "<b>One possible approach:</b> leveraging the structure of the page, use BeautifulSoup to divide it into disjoint peices of the HTML tree, each containing the set of information outlined above for each title's screening date at a given theater. Each peice is processed by a helper function(s) which extracts the desired fields and assemples them into a dictionary. These dictionaries are then accumulated in some iterable such as a list.\n",
    "</p>\n",
    "\n",
    "**Hints:**\n",
    "- Your browser's 'inspect' tool is very useful for exploring a page's structure.\n",
    "- To maintain a uniform set of keys across all movie dictionaries, use the plural 'directors' even for movies which attribute only a single director. \n",
    "</div>\n",
    "</div>"
   ]
  },
  {
   "cell_type": "code",
   "execution_count": 87,
   "id": "21c50ad0",
   "metadata": {},
   "outputs": [],
   "source": [
    "def extract_movies(content: str):\n",
    "    soup = BeautifulSoup(content)\n",
    "    \n",
    "    # Find all movies by their screen dates\n",
    "    all_movies = soup.find_all(\n",
    "        \"div\",\n",
    "        class_=\"max-w-screen\",\n",
    "        id=re.compile(r\"\\d{4}-\\d{2}-\\d{2}\")\n",
    "    )\n",
    "    \n",
    "    # print(len(all_movies))\n",
    "\n",
    "    movie_selector = 'div.md\\\\:col-span-3.min-w-0.justify-between.gap-4.md\\\\:gap-1.flex.flex-col.w-full.sm\\\\:h-full'\n",
    "    title_selector = 'p.big.whitespace-normal.w-full.min-w-0.overflow-hidden'\n",
    "\n",
    "    movies = []\n",
    "    \n",
    "    # Process each showing group\n",
    "    for grp in all_movies:\n",
    "        screen_date = grp.get('id')\n",
    "        \n",
    "        # Split each showing group into individual movies\n",
    "        grp_movies = grp.select(movie_selector)\n",
    "        for movie_item in grp_movies:\n",
    "            # Extract all properties of a movie except for title\n",
    "            details = movie_item.find_all(\"p\", class_=lambda c: c in (None, \"\"))\n",
    "            \n",
    "            # Split line for year, genre and runtime\n",
    "            movie_props = details[1].text.split(',')\n",
    "            \n",
    "            # Some movies have year and runtime, others have year, genre and runtime\n",
    "            genre = movie_props[1].strip() if len(movie_props) > 2 else \"\"\n",
    "            runtime = movie_props[2].strip() if len(movie_props) > 2 else movie_props[1].strip()\n",
    "            \n",
    "            # Create and append movie\n",
    "            movies.append({\n",
    "                'title': movie_item.select_one(title_selector).text.strip(),\n",
    "                'directors': details[0].text.strip(),\n",
    "                \n",
    "                'year': int(movie_props[0].strip()),\n",
    "                'genre': genre,\n",
    "                'runtime': runtime,\n",
    "                \n",
    "                'theater': details[2].text.strip(),\n",
    "                'screen_date': screen_date,\n",
    "                'screen_times': details[3].text.strip(),\n",
    "            })\n",
    "    return movies"
   ]
  },
  {
   "cell_type": "code",
   "execution_count": 88,
   "id": "fd237053-2e4d-4081-9d70-6281d7b73e97",
   "metadata": {
    "scrolled": true,
    "tags": [
     "otter_answer_cell"
    ]
   },
   "outputs": [],
   "source": [
    "movies = extract_movies(html_content)"
   ]
  },
  {
   "cell_type": "code",
   "execution_count": 89,
   "id": "f8c28617",
   "metadata": {
    "deletable": false,
    "editable": false
   },
   "outputs": [
    {
     "data": {
      "text/html": [
       "<p><strong><pre style='display: inline;'>q2</pre></strong> passed! 🌟</p>"
      ],
      "text/plain": [
       "q2 results: All test cases passed!"
      ]
     },
     "execution_count": 89,
     "metadata": {},
     "output_type": "execute_result"
    }
   ],
   "source": [
    "grader.check(\"q2\")"
   ]
  },
  {
   "cell_type": "markdown",
   "id": "cfcacef4-c29f-4743-8811-45064c7a0357",
   "metadata": {
    "deletable": false,
    "editable": false
   },
   "source": [
    "<div class=md>\n",
    "    <h3>3. Adding Historical Data: Snapshots from the Internet Archive's Wayback Machine</h3>\n",
    "<p>\n",
    "The screenboston.com page only shows screenings scheduled from the current day until about 2-4 weeks into the future.\n",
    "Using the <a href=\"http://web.archive.org/\">Wayback Machine</a>, we can augment our dataset with past snapshots of the page  \n",
    "</p>\n",
    "\n",
    "<p>\n",
    "Rather than clicking around to download each snapshot manually, we should again acquire our pages programmatically using <code>requests</code>. The Internet Archive offers an <a href='https://archive.org/help/wayback_api.php'>API</a> where you can specify a URL and timestamp and receive a JSON object which contains a new URL to a snapshot of the desired page nearest to the provided timestamp. You can then use <code>requests</code> again to acquire the HTML of this snapshot.\n",
    "</p>\n",
    "    \n",
    "<div class=prompt>\n",
    "\n",
    "1. Acquire enough snapshots to cover all days from Jan through September 2024 for which there exists data. \n",
    "For simplicity we'll assume that any well-formed screenboston.com page will cover at least through the end of that month and that a day's schedule won't change once displayed.\n",
    "2. Write each snapshot's HTML content to disk in the `/data/html` directory using filenames of the form `'snapshot_YYYYMMDD.html'`. Your code should only make requests if no local snapshot files already exist.\n",
    "3. Using your parsing function from the previous section, add movie dictionaries extracted from all the snapshots to your list, `movies`. Save this list of dictionaries as 'data/movies.json'. You should only perform the parsing if the JSON file does not already exist. Don't worry about any duplicate movie screenings in your list at this point.\n",
    "\n",
    "</div>\n",
    "\n",
    "**Hints:**\n",
    "- When retrieving JSON content with <code>requests</code>, us the `json()` method rather than the `text` attribute to extract the content from the returned request object into a nested dictionary rather than a string.\n",
    "- APIs often take parameters as key-value pairs occuring after a '?' character in the URL. For example 'http://archive.org/wayback/available?url=example.com&timestamp=20060101' includes a 'url' and a 'timestamp' parameter. When using <code>requests.get()</code> you can exclude these parameters from the URL itself and instead pass them as a dictionary to an argument called 'params'.\n",
    "- Use <code>json.dump()</code> and <code>json.load()</code> from the imported <code>json</code> module for writing and reading JSON content."
   ]
  },
  {
   "cell_type": "code",
   "execution_count": 90,
   "id": "e0cba772-70ea-40c6-abaa-ff20025c7cf3",
   "metadata": {
    "tags": [
     "otter_answer_cell"
    ]
   },
   "outputs": [],
   "source": [
    "MAX_RETRIES = 5\n",
    "SLEEP_SECONDS = 2\n",
    "WAYBACK_API = 'http://archive.org/wayback/available/'\n",
    "\n",
    "def get_snapshot_url(date_str: str):\n",
    "    \"\"\"\n",
    "    Checks the availability of a snapshot on a Wayback Machine and returns the url\n",
    "    to the archive if found.\n",
    "    \n",
    "    - If snapshot is not available, the check is retried due to quirks in the api response.\n",
    "    - Returns the archive url if found.\n",
    "    \"\"\"\n",
    "    for _ in range(MAX_RETRIES):\n",
    "        params = {\n",
    "            'url': 'screenboston.com',\n",
    "            'timestamp': date_str,\n",
    "        }\n",
    "        response = requests.get(WAYBACK_API, params=params)\n",
    "        response.raise_for_status()\n",
    "        data = response.json()\n",
    "        \n",
    "        # Check snapshot availability\n",
    "        snapshot = data.get('archived_snapshots', {}).get('closest', None)\n",
    "        if snapshot and snapshot.get('available', False):\n",
    "            return snapshot['url']\n",
    "        \n",
    "        time.sleep(SLEEP_SECONDS)\n",
    "        \n",
    "    # Snapshot not found\n",
    "    return \"\"\n",
    "\n",
    "def load_archived_data(date_str: str):\n",
    "    \"\"\"\n",
    "    Loads archived movie data for the given timestamp.\n",
    "    \n",
    "    - Uses local snapshots if available.\n",
    "    - Otherwise the snapshot is fetched from Wayback Machine if available.\n",
    "    \"\"\"\n",
    "    # Try read file from disk\n",
    "    filename = f'data/html/snapshot_{date_str}.html'\n",
    "    content = read_file(filename)\n",
    "    \n",
    "    if content:\n",
    "        return content\n",
    "    \n",
    "    # Check if archive is available and fetch it\n",
    "    url = get_snapshot_url(date_str)\n",
    "    if url:\n",
    "        return fetch_html_data(url, filename)\n",
    "    \n",
    "    return \"\"\n",
    "\n",
    "def save_movies():\n",
    "    filename = 'data/movies.json'\n",
    "    with open(filename, 'w', encoding='utf-8') as f:\n",
    "        json.dump(movies, f, indent=2, ensure_ascii=False)"
   ]
  },
  {
   "cell_type": "code",
   "execution_count": 91,
   "id": "b4a0cfad-0b4a-49de-9660-c5b3cff54e69",
   "metadata": {
    "scrolled": true,
    "tags": [
     "otter_answer_cell"
    ]
   },
   "outputs": [],
   "source": [
    "# We use the first day of each month to fetch the snapshot.\n",
    "# This is on the assumption that the page fetched will cover the month.\n",
    "# Also, the availability check will return the closest available timestamp.\n",
    "date_strs = [\n",
    "    '20240101', \n",
    "    '20240201', \n",
    "    '20240301', \n",
    "    '20240401',\n",
    "    '20240501', \n",
    "    '20240601', \n",
    "    '20240701', \n",
    "    '20240801', \n",
    "    '20240901'\n",
    "]\n",
    "for date_str in date_strs:\n",
    "    data = load_archived_data(date_str)\n",
    "    extracted_movies = extract_movies(data)\n",
    "    movies.extend(extracted_movies)\n",
    "    \n",
    "save_movies()"
   ]
  },
  {
   "cell_type": "code",
   "execution_count": 92,
   "id": "00c000d1-37c3-4b59-b557-4ce6ffb8a8f2",
   "metadata": {
    "deletable": false,
    "editable": false
   },
   "outputs": [
    {
     "name": "stdout",
     "output_type": "stream",
     "text": [
      "Snapshots:\n",
      "['snapshot_20240601.html', 'snapshot_20240401.html', 'snapshot_20240801.html', 'snapshot_20240201.html', 'snapshot_20240701.html', 'snapshot_20240501.html', 'snapshot_20240901.html', 'snapshot_20240101.html', 'snapshot_20240301.html']\n",
      "Found 625 movie entries across all HTML files.\n"
     ]
    }
   ],
   "source": [
    "# Display info about snapshots and results of parsing\n",
    "print(f\"Snapshots:\")\n",
    "print([f.split('/')[-1] for f in glob.glob('data/html/snapshot_*')])\n",
    "print(f\"Found {len(movies)} movie entries across all HTML files.\")"
   ]
  },
  {
   "cell_type": "code",
   "execution_count": 93,
   "id": "f7541671",
   "metadata": {
    "deletable": false,
    "editable": false
   },
   "outputs": [
    {
     "data": {
      "text/html": [
       "<p><strong><pre style='display: inline;'>q3</pre></strong> passed! 🌈</p>"
      ],
      "text/plain": [
       "q3 results: All test cases passed!"
      ]
     },
     "execution_count": 93,
     "metadata": {},
     "output_type": "execute_result"
    }
   ],
   "source": [
    "grader.check(\"q3\")"
   ]
  },
  {
   "cell_type": "markdown",
   "id": "1e227fb9-5645-4086-b89e-fda1afa80d19",
   "metadata": {
    "deletable": false,
    "editable": false
   },
   "source": [
    "<div class=md>\n",
    "    \n",
    "<h3>4. DataFrame Creation & Manipulation</h3>\n",
    "\n",
    "Your variable `movies` is a list of dictionaries which you can use to create a Pandas DataFrame. Have our data in a DataFrame will make it much easier to analyze and manipulate.\n",
    "\n",
    "<div class=prompt>\n",
    "    \n",
    "1. Use `movies` to create a DataFrame and call it `df`\n",
    "2. Drop any **duplicate rows** and report the number of remaining rows. Here we consider duplicates to be rows in which *all* values match. The same movie screening on different days, even at the same theater, will not be considered a duplicate.\n",
    "3. Check for **nans**. If you find any nans you should report the number of nans in each column and display the rows that contain at least one nan. If there are no nans then you should display output to confirm this fact.\n",
    "4. Convert the **'screen_date'** to a Pandas `datetime` dtype and **'runtime'** to a Pandas `timedelta` dtype.\n",
    "5. Sort your `df` by ascending 'screen_date'\n",
    "</div>\n",
    "\n",
    "Your result should look something like:\n",
    "\n",
    "| title                            | directors       | year | genre  | runtime         | theater                   | screen_date | screen_times         |\n",
    "|-----------------------------------|-----------------|------|--------|-----------------|---------------------------|-------------|----------------------|\n",
    "| Ghost Dog: The Way of the Samurai | Jim Jarmusch    | 1999 | Crime  | 0 days 01:56:00 | The Brattle               | 2024-05-24  | 4:00 PM, 9:00 PM     |\n",
    "| Stray Dog                        | Akira Kurosawa  | 1949 | Crime  | 0 days 02:02:00 | The Brattle               | 2024-05-24  | 6:30 PM              |\n",
    "| Big Trouble in Little China       | John Carpenter  | 1986 | Comedy | 0 days 01:40:00 | Coolidge Corner Theatre    | 2024-05-24  | 11:59 PM             |\n",
    "| Young Frankenstein               | Mel Brooks      | 1974 | Comedy | 0 days 01:46:00 | The Brattle               | 2024-05-25  | 12:00 PM             |\n",
    "| Poetry                           | Lee Chang-dong  | 2010 | Drama  | 0 days 02:19:00 | Museum of Fine Arts        | 2024-05-25  | 2:30 PM              |\n",
    "\n",
    "**Hints:**\n",
    "- You can use the `dt.date` attribute on a datetime column to extract just the day (and ignore the time)\n",
    "- You may need to to do some string parsing on 'runtime' before coverting it to a `timedelta`\n",
    "- Pandas now supports [PyArrow](https://arrow.apache.org/docs/python/index.html) as a backend alternative to Numpy. This gives access to new datatypes including native strings (as opposed to the catch-all 'object'), ints that support NaN values, and others. Using these datatypes can often speed up computations so you may choose to experiment with converting some or all of your columns to these new datatypes. You can read more [here](https://pandas.pydata.org/docs/user_guide/pyarrow.html).\n",
    "</div>"
   ]
  },
  {
   "cell_type": "code",
   "execution_count": 94,
   "id": "f5325155",
   "metadata": {},
   "outputs": [
    {
     "name": "stdout",
     "output_type": "stream",
     "text": [
      "Number of NaNs per Column:\n"
     ]
    },
    {
     "data": {
      "text/plain": [
       "title           0\n",
       "directors       0\n",
       "year            0\n",
       "genre           0\n",
       "runtime         0\n",
       "theater         0\n",
       "screen_date     0\n",
       "screen_times    0\n",
       "dtype: int64"
      ]
     },
     "execution_count": 94,
     "metadata": {},
     "output_type": "execute_result"
    }
   ],
   "source": [
    "# Create movies dataframe\n",
    "df = pd.DataFrame(movies)\n",
    "\n",
    "# Drop duplicate movie screening\n",
    "df = df.drop_duplicates()\n",
    "\n",
    "# Aggregate NaN's per column\n",
    "nan_count = df.isna().sum()\n",
    "print(\"Number of NaNs per Column:\")\n",
    "nan_count"
   ]
  },
  {
   "cell_type": "code",
   "execution_count": 95,
   "id": "ad6cd265-e541-4f93-abb4-ea00287f7b08",
   "metadata": {
    "tags": [
     "otter_answer_cell"
    ]
   },
   "outputs": [
    {
     "name": "stdout",
     "output_type": "stream",
     "text": [
      "\n",
      "Rows with NaNs: 0\n"
     ]
    },
    {
     "data": {
      "text/html": [
       "<div>\n",
       "<style scoped>\n",
       "    .dataframe tbody tr th:only-of-type {\n",
       "        vertical-align: middle;\n",
       "    }\n",
       "\n",
       "    .dataframe tbody tr th {\n",
       "        vertical-align: top;\n",
       "    }\n",
       "\n",
       "    .dataframe thead th {\n",
       "        text-align: right;\n",
       "    }\n",
       "</style>\n",
       "<table border=\"1\" class=\"dataframe\">\n",
       "  <thead>\n",
       "    <tr style=\"text-align: right;\">\n",
       "      <th></th>\n",
       "      <th>title</th>\n",
       "      <th>directors</th>\n",
       "      <th>year</th>\n",
       "      <th>genre</th>\n",
       "      <th>runtime</th>\n",
       "      <th>theater</th>\n",
       "      <th>screen_date</th>\n",
       "      <th>screen_times</th>\n",
       "    </tr>\n",
       "  </thead>\n",
       "  <tbody>\n",
       "  </tbody>\n",
       "</table>\n",
       "</div>"
      ],
      "text/plain": [
       "Empty DataFrame\n",
       "Columns: [title, directors, year, genre, runtime, theater, screen_date, screen_times]\n",
       "Index: []"
      ]
     },
     "execution_count": 95,
     "metadata": {},
     "output_type": "execute_result"
    }
   ],
   "source": [
    "# Find all rows that have NaN in any column\n",
    "nan_df = df[df.isna().any(axis=1)]\n",
    "print(f\"\\nRows with NaNs: {len(nan_df)}\")\n",
    "nan_df"
   ]
  },
  {
   "cell_type": "code",
   "execution_count": 96,
   "id": "22e474a9-10b2-4376-9ce1-620883241788",
   "metadata": {
    "tags": [
     "otter_answer_cell"
    ]
   },
   "outputs": [
    {
     "data": {
      "text/html": [
       "<style type=\"text/css\">\n",
       "#T_08413 td {\n",
       "  text-align: left;\n",
       "  border: 1px solid white;\n",
       "}\n",
       "#T_08413  th {\n",
       "  text-align: left;\n",
       "  border: 1px solid white;\n",
       "}\n",
       "</style>\n",
       "<table id=\"T_08413\">\n",
       "  <thead>\n",
       "    <tr>\n",
       "      <th id=\"T_08413_level0_col0\" class=\"col_heading level0 col0\" >title</th>\n",
       "      <th id=\"T_08413_level0_col1\" class=\"col_heading level0 col1\" >directors</th>\n",
       "      <th id=\"T_08413_level0_col2\" class=\"col_heading level0 col2\" >year</th>\n",
       "      <th id=\"T_08413_level0_col3\" class=\"col_heading level0 col3\" >genre</th>\n",
       "      <th id=\"T_08413_level0_col4\" class=\"col_heading level0 col4\" >runtime</th>\n",
       "      <th id=\"T_08413_level0_col5\" class=\"col_heading level0 col5\" >theater</th>\n",
       "      <th id=\"T_08413_level0_col6\" class=\"col_heading level0 col6\" >screen_date</th>\n",
       "      <th id=\"T_08413_level0_col7\" class=\"col_heading level0 col7\" >screen_times</th>\n",
       "    </tr>\n",
       "  </thead>\n",
       "  <tbody>\n",
       "    <tr>\n",
       "      <td id=\"T_08413_row0_col0\" class=\"data row0 col0\" >Ghost Dog: The Way of the Samurai</td>\n",
       "      <td id=\"T_08413_row0_col1\" class=\"data row0 col1\" >Jim Jarmusch</td>\n",
       "      <td id=\"T_08413_row0_col2\" class=\"data row0 col2\" >1999</td>\n",
       "      <td id=\"T_08413_row0_col3\" class=\"data row0 col3\" >Crime</td>\n",
       "      <td id=\"T_08413_row0_col4\" class=\"data row0 col4\" >0 days 01:56:00</td>\n",
       "      <td id=\"T_08413_row0_col5\" class=\"data row0 col5\" >The Brattle</td>\n",
       "      <td id=\"T_08413_row0_col6\" class=\"data row0 col6\" >2024-05-24</td>\n",
       "      <td id=\"T_08413_row0_col7\" class=\"data row0 col7\" >4:00 PM</td>\n",
       "    </tr>\n",
       "    <tr>\n",
       "      <td id=\"T_08413_row1_col0\" class=\"data row1 col0\" >Big Trouble in Little China</td>\n",
       "      <td id=\"T_08413_row1_col1\" class=\"data row1 col1\" >John Carpenter</td>\n",
       "      <td id=\"T_08413_row1_col2\" class=\"data row1 col2\" >1986</td>\n",
       "      <td id=\"T_08413_row1_col3\" class=\"data row1 col3\" >Comedy</td>\n",
       "      <td id=\"T_08413_row1_col4\" class=\"data row1 col4\" >0 days 01:40:00</td>\n",
       "      <td id=\"T_08413_row1_col5\" class=\"data row1 col5\" >Coolidge Corner Theatre</td>\n",
       "      <td id=\"T_08413_row1_col6\" class=\"data row1 col6\" >2024-05-24</td>\n",
       "      <td id=\"T_08413_row1_col7\" class=\"data row1 col7\" >11:59 PM</td>\n",
       "    </tr>\n",
       "    <tr>\n",
       "      <td id=\"T_08413_row2_col0\" class=\"data row2 col0\" >Stray Dog</td>\n",
       "      <td id=\"T_08413_row2_col1\" class=\"data row2 col1\" >Akira Kurosawa</td>\n",
       "      <td id=\"T_08413_row2_col2\" class=\"data row2 col2\" >1949</td>\n",
       "      <td id=\"T_08413_row2_col3\" class=\"data row2 col3\" >Crime</td>\n",
       "      <td id=\"T_08413_row2_col4\" class=\"data row2 col4\" >0 days 02:02:00</td>\n",
       "      <td id=\"T_08413_row2_col5\" class=\"data row2 col5\" >The Brattle</td>\n",
       "      <td id=\"T_08413_row2_col6\" class=\"data row2 col6\" >2024-05-24</td>\n",
       "      <td id=\"T_08413_row2_col7\" class=\"data row2 col7\" >6:30 PM</td>\n",
       "    </tr>\n",
       "    <tr>\n",
       "      <td id=\"T_08413_row3_col0\" class=\"data row3 col0\" >Young Frankenstein</td>\n",
       "      <td id=\"T_08413_row3_col1\" class=\"data row3 col1\" >Mel Brooks</td>\n",
       "      <td id=\"T_08413_row3_col2\" class=\"data row3 col2\" >1974</td>\n",
       "      <td id=\"T_08413_row3_col3\" class=\"data row3 col3\" >Comedy</td>\n",
       "      <td id=\"T_08413_row3_col4\" class=\"data row3 col4\" >0 days 01:46:00</td>\n",
       "      <td id=\"T_08413_row3_col5\" class=\"data row3 col5\" >The Brattle</td>\n",
       "      <td id=\"T_08413_row3_col6\" class=\"data row3 col6\" >2024-05-25</td>\n",
       "      <td id=\"T_08413_row3_col7\" class=\"data row3 col7\" >12:00 PM</td>\n",
       "    </tr>\n",
       "    <tr>\n",
       "      <td id=\"T_08413_row4_col0\" class=\"data row4 col0\" >Poetry</td>\n",
       "      <td id=\"T_08413_row4_col1\" class=\"data row4 col1\" >Lee Chang-dong</td>\n",
       "      <td id=\"T_08413_row4_col2\" class=\"data row4 col2\" >2010</td>\n",
       "      <td id=\"T_08413_row4_col3\" class=\"data row4 col3\" >Drama</td>\n",
       "      <td id=\"T_08413_row4_col4\" class=\"data row4 col4\" >0 days 02:19:00</td>\n",
       "      <td id=\"T_08413_row4_col5\" class=\"data row4 col5\" >Museum of Fine Arts</td>\n",
       "      <td id=\"T_08413_row4_col6\" class=\"data row4 col6\" >2024-05-25</td>\n",
       "      <td id=\"T_08413_row4_col7\" class=\"data row4 col7\" >2:30 PM</td>\n",
       "    </tr>\n",
       "  </tbody>\n",
       "</table>\n"
      ],
      "text/plain": [
       "<pandas.io.formats.style.Styler at 0x149821a90>"
      ]
     },
     "execution_count": 96,
     "metadata": {},
     "output_type": "execute_result"
    }
   ],
   "source": [
    "# Drop rows with NaN\n",
    "df = df.dropna()\n",
    "\n",
    "# Convert screen_date and runtime columns to dtype datetime and timedelta\n",
    "df[\"screen_date\"] = pd.to_datetime(df[\"screen_date\"], errors=\"coerce\")\n",
    "df[\"runtime\"] = pd.to_timedelta(df[\"runtime\"])\n",
    "\n",
    "# Sort dataframe by ascending screen_date\n",
    "df = df.sort_values(by=\"screen_date\", ascending=True)\n",
    "\n",
    "# Display the dataframe's head\n",
    "# Hide index, format screen_date, align texts to the left and add borders\n",
    "df.head().style.hide(axis=\"index\")\\\n",
    "    .format({'screen_date': lambda t: t.strftime(\"%Y-%m-%d\")})\\\n",
    "    .set_table_styles([\n",
    "        {\n",
    "            'selector': 'td, th', \n",
    "            'props': [\n",
    "                ('text-align', 'left'), \n",
    "                ('border', '1px solid white')\n",
    "            ]\n",
    "        }\n",
    "    ])"
   ]
  },
  {
   "cell_type": "code",
   "execution_count": 97,
   "id": "1ad88a84",
   "metadata": {
    "deletable": false,
    "editable": false
   },
   "outputs": [
    {
     "data": {
      "text/html": [
       "<p><strong><pre style='display: inline;'>q4</pre></strong> passed! 🚀</p>"
      ],
      "text/plain": [
       "q4 results: All test cases passed!"
      ]
     },
     "execution_count": 97,
     "metadata": {},
     "output_type": "execute_result"
    }
   ],
   "source": [
    "grader.check(\"q4\")"
   ]
  },
  {
   "cell_type": "markdown",
   "id": "b2f235ae-92d0-49b6-83aa-eb0a4021b1eb",
   "metadata": {
    "deletable": false,
    "editable": false
   },
   "source": [
    "<div class=md>\n",
    "    \n",
    "<h3>5. Initial Exploratory Data Analysis (EDA)</h3>\n",
    "\n",
    "Using your DataFrame, perform the following exploratory data analysis tasks. Note that we'll use the term \"screening\" to refer to rows in the DataFrame example provided above. For each visualization component of this question you should interpret the results and draw conclusions.\n",
    "\n",
    "<div class=prompt>\n",
    "\n",
    "1. **Longest Films**:\n",
    "   Display the rows corresponding to the top 5 longest reported runtimes in descending order.\n",
    "\n",
    "2. **Screening Counts**:\n",
    "   Create two plots as side-by-side subplots with a shared y-axis range:\\\n",
    "   a. Number of screenings by theater\\\n",
    "   b. Number of screenings by genre\n",
    "\n",
    "3. **Movie Year Analysis**:\n",
    "   Create two separate plots:\\\n",
    "   a. Distribution of 'year' for all movies\\\n",
    "   b. Distribution of 'year' grouped by theater\n",
    "\n",
    "4. **Custom Analysis**:\n",
    "   Ask two questions of your choice regarding the screening data and use plots to attempt to find some answers. For each question:\\\n",
    "   a. Clearly state your question\\\n",
    "   b. Explain your approach to answering the question\\\n",
    "   c. Create an appropriate visualization\n",
    "   \n",
    "   At least one of these new plots must be a different type from those used in parts 2 and 3.\n",
    "\n",
    "Example questions you might consider:\n",
    "- Is there a relationship between a movie's age (current year - release year) and the number of screenings it receives?\n",
    "- Do certain genres tend to have longer runtimes?\n",
    "- Are there patterns in screening times for different theaters or genres?\n",
    "- How does the distribution of genres vary across different theaters?\n",
    "\n",
    "\n",
    "</div>\n",
    "</div>"
   ]
  },
  {
   "cell_type": "code",
   "execution_count": 98,
   "id": "e5d6435e-bc72-4d9c-9b55-bc8d31362318",
   "metadata": {
    "tags": [
     "otter_answer_cell"
    ]
   },
   "outputs": [
    {
     "data": {
      "text/html": [
       "<style type=\"text/css\">\n",
       "#T_e721e td {\n",
       "  text-align: left;\n",
       "  border: 1px solid white;\n",
       "}\n",
       "#T_e721e  th {\n",
       "  text-align: left;\n",
       "  border: 1px solid white;\n",
       "}\n",
       "</style>\n",
       "<table id=\"T_e721e\">\n",
       "  <thead>\n",
       "    <tr>\n",
       "      <th id=\"T_e721e_level0_col0\" class=\"col_heading level0 col0\" >title</th>\n",
       "      <th id=\"T_e721e_level0_col1\" class=\"col_heading level0 col1\" >directors</th>\n",
       "      <th id=\"T_e721e_level0_col2\" class=\"col_heading level0 col2\" >year</th>\n",
       "      <th id=\"T_e721e_level0_col3\" class=\"col_heading level0 col3\" >genre</th>\n",
       "      <th id=\"T_e721e_level0_col4\" class=\"col_heading level0 col4\" >runtime</th>\n",
       "      <th id=\"T_e721e_level0_col5\" class=\"col_heading level0 col5\" >theater</th>\n",
       "      <th id=\"T_e721e_level0_col6\" class=\"col_heading level0 col6\" >screen_date</th>\n",
       "      <th id=\"T_e721e_level0_col7\" class=\"col_heading level0 col7\" >screen_times</th>\n",
       "    </tr>\n",
       "  </thead>\n",
       "  <tbody>\n",
       "    <tr>\n",
       "      <td id=\"T_e721e_row0_col0\" class=\"data row0 col0\" >Menus-Plaisirs - Les Troisgros</td>\n",
       "      <td id=\"T_e721e_row0_col1\" class=\"data row0 col1\" >Frederick Wiseman</td>\n",
       "      <td id=\"T_e721e_row0_col2\" class=\"data row0 col2\" >2023</td>\n",
       "      <td id=\"T_e721e_row0_col3\" class=\"data row0 col3\" >Documentary</td>\n",
       "      <td id=\"T_e721e_row0_col4\" class=\"data row0 col4\" >0 days 04:00:00</td>\n",
       "      <td id=\"T_e721e_row0_col5\" class=\"data row0 col5\" >Museum of Fine Arts</td>\n",
       "      <td id=\"T_e721e_row0_col6\" class=\"data row0 col6\" >2024-08-03</td>\n",
       "      <td id=\"T_e721e_row0_col7\" class=\"data row0 col7\" >12:30 PM</td>\n",
       "    </tr>\n",
       "    <tr>\n",
       "      <td id=\"T_e721e_row1_col0\" class=\"data row1 col0\" >Lawrence of Arabia</td>\n",
       "      <td id=\"T_e721e_row1_col1\" class=\"data row1 col1\" >David Lean</td>\n",
       "      <td id=\"T_e721e_row1_col2\" class=\"data row1 col2\" >1962</td>\n",
       "      <td id=\"T_e721e_row1_col3\" class=\"data row1 col3\" >Adventure</td>\n",
       "      <td id=\"T_e721e_row1_col4\" class=\"data row1 col4\" >0 days 03:48:00</td>\n",
       "      <td id=\"T_e721e_row1_col5\" class=\"data row1 col5\" >Coolidge Corner Theatre</td>\n",
       "      <td id=\"T_e721e_row1_col6\" class=\"data row1 col6\" >2024-09-15</td>\n",
       "      <td id=\"T_e721e_row1_col7\" class=\"data row1 col7\" >2:00 PM</td>\n",
       "    </tr>\n",
       "    <tr>\n",
       "      <td id=\"T_e721e_row2_col0\" class=\"data row2 col0\" >Ben-Hur</td>\n",
       "      <td id=\"T_e721e_row2_col1\" class=\"data row2 col1\" >William Wyler</td>\n",
       "      <td id=\"T_e721e_row2_col2\" class=\"data row2 col2\" >1959</td>\n",
       "      <td id=\"T_e721e_row2_col3\" class=\"data row2 col3\" >History</td>\n",
       "      <td id=\"T_e721e_row2_col4\" class=\"data row2 col4\" >0 days 03:42:00</td>\n",
       "      <td id=\"T_e721e_row2_col5\" class=\"data row2 col5\" >Somerville Theatre</td>\n",
       "      <td id=\"T_e721e_row2_col6\" class=\"data row2 col6\" >2024-06-22</td>\n",
       "      <td id=\"T_e721e_row2_col7\" class=\"data row2 col7\" >2:00 PM</td>\n",
       "    </tr>\n",
       "    <tr>\n",
       "      <td id=\"T_e721e_row3_col0\" class=\"data row3 col0\" >Jeanne Dielman, 23, quai du Commerce, 1080 Bruxelles</td>\n",
       "      <td id=\"T_e721e_row3_col1\" class=\"data row3 col1\" >Chantal Akerman</td>\n",
       "      <td id=\"T_e721e_row3_col2\" class=\"data row3 col2\" >1976</td>\n",
       "      <td id=\"T_e721e_row3_col3\" class=\"data row3 col3\" >Drama</td>\n",
       "      <td id=\"T_e721e_row3_col4\" class=\"data row3 col4\" >0 days 03:22:00</td>\n",
       "      <td id=\"T_e721e_row3_col5\" class=\"data row3 col5\" >The Brattle</td>\n",
       "      <td id=\"T_e721e_row3_col6\" class=\"data row3 col6\" >2024-08-04</td>\n",
       "      <td id=\"T_e721e_row3_col7\" class=\"data row3 col7\" >6:30 PM</td>\n",
       "    </tr>\n",
       "    <tr>\n",
       "      <td id=\"T_e721e_row4_col0\" class=\"data row4 col0\" >Spartacus</td>\n",
       "      <td id=\"T_e721e_row4_col1\" class=\"data row4 col1\" >Stanley Kubrick</td>\n",
       "      <td id=\"T_e721e_row4_col2\" class=\"data row4 col2\" >1960</td>\n",
       "      <td id=\"T_e721e_row4_col3\" class=\"data row4 col3\" >History</td>\n",
       "      <td id=\"T_e721e_row4_col4\" class=\"data row4 col4\" >0 days 03:17:00</td>\n",
       "      <td id=\"T_e721e_row4_col5\" class=\"data row4 col5\" >Coolidge Corner Theatre</td>\n",
       "      <td id=\"T_e721e_row4_col6\" class=\"data row4 col6\" >2024-09-23</td>\n",
       "      <td id=\"T_e721e_row4_col7\" class=\"data row4 col7\" >7:30 PM</td>\n",
       "    </tr>\n",
       "  </tbody>\n",
       "</table>\n"
      ],
      "text/plain": [
       "<pandas.io.formats.style.Styler at 0x1498220d0>"
      ]
     },
     "execution_count": 98,
     "metadata": {},
     "output_type": "execute_result"
    }
   ],
   "source": [
    "# 1. Longest films\n",
    "# Top 5 movies with longest runtime\n",
    "top_five_runtimes = df.sort_values(by=\"runtime\", ascending=False).iloc[0:5]\n",
    "\n",
    "# Display dataframe\n",
    "# Hide index, format screen_date, align texts to the left and add borders\n",
    "top_five_runtimes.style.hide(axis=\"index\")\\\n",
    "    .format({'screen_date': lambda t: t.strftime(\"%Y-%m-%d\")})\\\n",
    "    .set_table_styles([\n",
    "        {\n",
    "            'selector': 'td, th',\n",
    "            'props': [\n",
    "                ('text-align', 'left'), \n",
    "                ('border', '1px solid white')\n",
    "            ]\n",
    "        }\n",
    "    ])"
   ]
  },
  {
   "cell_type": "markdown",
   "id": "e0c001c6",
   "metadata": {},
   "source": [
    "### Observations\n",
    "1. The longest films all have very long runtimes, each well over 3 hours with the longest at 4 hours.\n",
    "2. Screening time for the longest films are mostly in the afternoon. 4 out of the 5 starts between 12:30 PM and 2:00PM with one showing at 3:30 PM\n",
    "\n",
    "### Conclusions\n",
    "Very long movies are usually screened in the afternoon or early evening."
   ]
  },
  {
   "cell_type": "code",
   "execution_count": 99,
   "id": "ccfab035-93a1-4d20-8a8c-5d288f07bd15",
   "metadata": {
    "tags": [
     "otter_answer_cell"
    ]
   },
   "outputs": [
    {
     "data": {
      "image/png": "[encoded data removed]",
      "text/plain": [
       "<Figure size 1400x600 with 2 Axes>"
      ]
     },
     "metadata": {},
     "output_type": "display_data"
    }
   ],
   "source": [
    "# 2. Screenings by theater & screenings by genre\n",
    "screenings_by_theater = df.groupby('theater').size().reset_index(name='num_screenings')\n",
    "\n",
    "screenings_by_genre = df.groupby('genre').size().reset_index(name='num_screenings')\n",
    "# Remove empty genres\n",
    "screenings_by_genre = screenings_by_genre[screenings_by_genre['genre'].str.strip() != '']\n",
    "\n",
    "plot_data = [(screenings_by_theater, 'theater'), (screenings_by_genre, 'genre')]\n",
    "fig, axs = plt.subplots(1, 2, figsize=(14,6), sharey=True)\n",
    "for i, (data, movie_title) in enumerate(plot_data):\n",
    "    sns.barplot(\n",
    "        data=data, x=movie_title, y='num_screenings', ax=axs[i]\n",
    "    ).set_title('number of screenings by ' + movie_title)\n",
    "    axs[i].tick_params(axis='x', rotation=90)\n",
    "plt.tight_layout()"
   ]
  },
  {
   "cell_type": "code",
   "execution_count": 100,
   "id": "689e315e-5b10-4fa0-bda1-8067dd8bb5ee",
   "metadata": {
    "tags": [
     "otter_answer_cell"
    ]
   },
   "outputs": [
    {
     "data": {
      "image/png": "[encoded data removed]",
      "text/plain": [
       "<Figure size 1600x400 with 1 Axes>"
      ]
     },
     "metadata": {},
     "output_type": "display_data"
    },
    {
     "data": {
      "image/png": "[encoded data removed]",
      "text/plain": [
       "<Figure size 1600x400 with 1 Axes>"
      ]
     },
     "metadata": {},
     "output_type": "display_data"
    }
   ],
   "source": [
    "plt.figure(figsize=(16,4))\n",
    "plt.hist(df['year'], bins=range(df['year'].min(), df['year'].max()+1, 1), edgecolor='black')\n",
    "plt.xlabel(\"Year\")\n",
    "plt.ylabel(\"Number of Screenings\")\n",
    "plt.title(\"Yearly Distribution of Movie Screenings\")\n",
    "plt.show()\n",
    "\n",
    "theaters = df['theater'].unique()\n",
    "plt.figure(figsize=(16,4))\n",
    "plt.hist(\n",
    "    [df[df['theater'] == t]['year'] for t in theaters], \n",
    "    bins=range(df['year'].min(), df['year'].max()+1), \n",
    "    stacked=True, \n",
    "    label=theaters,\n",
    "    edgecolor='black'\n",
    ")\n",
    "\n",
    "plt.xlabel(\"Year\")\n",
    "plt.ylabel(\"Number of Screenings\")\n",
    "plt.title(\"Yearly Distribution of Movie Screenings by Theater\")\n",
    "plt.legend(title=\"Theater\", ncol=4, loc='upper center', bbox_to_anchor=(0.5, -0.2))\n",
    "plt.show()\n"
   ]
  },
  {
   "cell_type": "markdown",
   "id": "d806a6e6",
   "metadata": {},
   "source": [
    "Observations:\n",
    "1. This an upward trend in the number of film screenings over time.\n",
    "2. Movie screenings were sparse before the 1945s and concentrated in very few theaters.\n",
    "3. There are fluctuations in the number of screenings between 1945 and 2025.\n",
    "4. The largest number of screenings occurred in 2000, 2018 and 2024 and 2025, with peaks in 2018 and 2025.\n",
    "5. Brattle and Rocky Woods are the dominant theaters.\n",
    "6. Embassy Theater, Harvard Film Archive and The Speadway theaters, contributed the least number of screenings.\n",
    "\n",
    "Conclusions\n",
    "1. Cinema activities experienced growth over time with a few dominant theaters consistently accounting for a large portion of screenings.\n",
    "2. There are more theaters screening movies in recent years than in the early years.\n",
    "3. Further studies could be conducted to understand the cause of the spikes seen in some years."
   ]
  },
  {
   "cell_type": "code",
   "execution_count": 101,
   "id": "167374a0-bb68-4188-b766-0919e94c261c",
   "metadata": {
    "tags": [
     "otter_answer_cell"
    ]
   },
   "outputs": [
    {
     "data": {
      "image/png": "[encoded data removed]",
      "text/plain": [
       "<Figure size 1200x600 with 1 Axes>"
      ]
     },
     "metadata": {},
     "output_type": "display_data"
    }
   ],
   "source": [
    "# 4.1 Custom question 1 - Runtime Distributions by Year (Scatter with Trend Line, Outliers Removed but Included in Regression)\n",
    "\n",
    "# Convert runtime to minutes first\n",
    "df['runtime_minutes'] = df['runtime'].dt.total_seconds() / 60\n",
    "\n",
    "# Remove outliers\n",
    "filtered_df = df[(df['runtime_minutes'] >= 50) & (df['runtime_minutes'] <= 150)]\n",
    "\n",
    "plt.figure(figsize=(12, 6))\n",
    "plt.scatter(data=filtered_df, x='year', y='runtime_minutes', color='green')\n",
    "\n",
    "# Fit linear regression line\n",
    "x = filtered_df['year'].values \n",
    "y = filtered_df['runtime_minutes'].values\n",
    "m, b = np.polyfit(x, y, 1)  # slope, intercept\n",
    "\n",
    "# Add line to plot\n",
    "plt.plot(x, m*x + b, color='red', linewidth=2, label=\"Trend line\")\n",
    "\n",
    "plt.title(\"Runtime Distribution by Year\")\n",
    "plt.xlabel(\"Year\")\n",
    "plt.ylabel(\"Runtime (minutes)\")\n",
    "plt.show()"
   ]
  },
  {
   "cell_type": "code",
   "execution_count": 102,
   "id": "cfa02d2a-c38e-480c-8c81-08107b1eaa54",
   "metadata": {
    "tags": [
     "otter_answer_cell"
    ]
   },
   "outputs": [
    {
     "data": {
      "image/png": "[encoded data removed]",
      "text/plain": [
       "<Figure size 1200x400 with 1 Axes>"
      ]
     },
     "metadata": {},
     "output_type": "display_data"
    }
   ],
   "source": [
    "# 4.2 Custom question 2 - Top 10 Directors by Number of Screenings (Aesthetic Improvements)\n",
    "# your code here\n",
    "top_10_dirs = df.groupby('directors').size().reset_index(name='num_screenings')\n",
    "top_10_dirs = top_10_dirs.nlargest(10, 'num_screenings')\n",
    "# top_10_dirs\n",
    "\n",
    "plt.figure(figsize=(12,4))\n",
    "plt.xticks(rotation=90)\n",
    "with sns.axes_style('whitegrid'):\n",
    "    sns.barplot(data=top_10_dirs, x='directors', y='num_screenings', color='orange')"
   ]
  },
  {
   "cell_type": "markdown",
   "id": "10d6174f-88a3-4e95-b111-f9b24ab16c34",
   "metadata": {
    "deletable": false,
    "editable": false
   },
   "source": [
    "\n",
    "<div class=md>\n",
    "<h3>6. Get each film’s Wikipedia page identifier</h3>\n",
    "\n",
    "Use the Wikipedia Python library to find a stable identifier for each film’s Wikipedia page and store it in a new `wiki_id` column. Prefer the numeric page ID (`page.pageid`); a canonical article URL is acceptable. Display the head of your updated DataFrame and briefly describe your approach. Aim for at least 50% coverage.\n",
    "\n",
    "<strong>Hints:</strong>\n",
    "- Set up the library: `wikipedia.set_lang(\"en\")` and `wikipedia.set_rate_limiting(True)`.\n",
    "- Build your search query from known fields (e.g., title + year + \"film\" [+ director if helpful]).\n",
    "- Use `wikipedia.search(...)`, then fetch a page with `wikipedia.page(..., auto_suggest=True)`.\n",
    "- Extract a stable ID: `page.pageid` (preferred) or `page.url`.\n",
    "- Handle `DisambiguationError` and `PageError`; return `None` when you’re not confident.\n",
    "- Cache results (e.g., write `wiki_id` to a CSV and only query rows where it’s missing).\n",
    "- Optional: use a small thread pool for speed, but keep concurrency low to be polite to Wikipedia.\n",
    "\n",
    "\n",
    "<strong>Optional performance hints (polite concurrency):</strong>\n",
    "- The <code>wikipedia</code> calls are blocking I/O. If you want to speed things up, use a small <code>ThreadPoolExecutor</code> (threads are appropriate for I/O). Keep <code>max_workers</code> low (2–4; at most ~8) and enable <code>wikipedia.set_rate_limiting(True)</code>.\n",
    "- Simple threaded map (no asyncio):\n",
    "  \n",
    "  ```python\n",
    "  from concurrent.futures import ThreadPoolExecutor\n",
    "\n",
    "  wikipedia.set_rate_limiting(True)\n",
    "\n",
    "  def get_wiki_id_for_movie(row):\n",
    "      # your blocking lookup; return pageid or None\n",
    "      ...\n",
    "\n",
    "  rows = df.to_dict(\"records\")\n",
    "  with ThreadPoolExecutor(max_workers=3) as ex:\n",
    "      wiki_ids = list(ex.map(get_wiki_id_for_movie, rows))\n",
    "  df[\"wiki_id\"] = wiki_ids\n",
    "  ```\n",
    "- If you prefer <code>asyncio</code>, you can run the blocking function in a thread pool and gather results:\n",
    "  \n",
    "  ```python\n",
    "  import asyncio\n",
    "  from concurrent.futures import ThreadPoolExecutor\n",
    "\n",
    "  async def get_wiki_ids_async(rows, max_workers=3):\n",
    "      loop = asyncio.get_running_loop()\n",
    "      with ThreadPoolExecutor(max_workers=max_workers) as ex:\n",
    "          tasks = [loop.run_in_executor(ex, get_wiki_id_for_movie, r) for r in rows]\n",
    "          return await asyncio.gather(*tasks)\n",
    "\n",
    "  wiki_ids = await get_wiki_ids_async(df.to_dict(\"records\"), max_workers=3)\n",
    "  df[\"wiki_id\"] = wiki_ids\n",
    "  ```\n",
    "- Cache results to disk so you don’t repeat requests. Handle <code>DisambiguationError</code>/<code>PageError</code> and return <code>None</code> gracefully.\n",
    "\n",
    "\n",
    "<strong>Ensure that :</strong>\n",
    "- `df` has a `wiki_id` column.\n",
    "- ≥50% of `wiki_id` are non-null.\n",
    "- You show the head of the updated DataFrame and briefly describe your approach.\n",
    "\n",
    "</div>"
   ]
  },
  {
   "cell_type": "code",
   "execution_count": 111,
   "id": "996c5115",
   "metadata": {},
   "outputs": [],
   "source": [
    "def read_wiki_ids(path: str):\n",
    "    \"\"\"Read wiki page IDs from disk and cache in a dictionary using pandas\"\"\"\n",
    "    if not os.path.isfile(path):\n",
    "        return dict()\n",
    "    \n",
    "    df_cache = pd.read_csv(path)\n",
    "    \n",
    "    # Expecting columns: query, wiki_ids\n",
    "    return dict(zip(df_cache[\"query\"], df_cache[\"wiki_id\"]))"
   ]
  },
  {
   "cell_type": "code",
   "execution_count": 112,
   "id": "567ec26b",
   "metadata": {},
   "outputs": [],
   "source": [
    "# Custom question 2 - Retrieving Wikipedia page IDs for movies\n",
    "wikipedia.set_lang('en')\n",
    "wikipedia.set_rate_limiting(True)\n",
    "\n",
    "# We will cache previously fetched wiki_ids in a dictionary for the threads\n",
    "# to share. To avoid race conditions, we will need a lock\n",
    "wiki_ids_dict_lock = Lock()\n",
    "wiki_ids_dict = read_wiki_ids(\"data/wiki_ids.csv\")"
   ]
  },
  {
   "cell_type": "code",
   "execution_count": 113,
   "id": "03de1aea",
   "metadata": {},
   "outputs": [],
   "source": [
    "def write_wiki_ids(path: str):\n",
    "    \"\"\"Write cached wiki IDs dictionary back to CSV using pandas.\"\"\"\n",
    "    df_cache = pd.DataFrame([\n",
    "        {\"query\": query, \"wiki_id\": wiki_id}\n",
    "        for query, wiki_id in wiki_ids_dict.items()\n",
    "    ])\n",
    "    df_cache.to_csv(path, index=False)"
   ]
  },
  {
   "cell_type": "code",
   "execution_count": 105,
   "id": "5e21e0cd",
   "metadata": {},
   "outputs": [],
   "source": [
    "def build_film_query(title: str, year=None, director=None):\n",
    "    parts = [title]\n",
    "    if year:\n",
    "        parts.append(str(year))\n",
    "        \n",
    "    parts.append(\"film\")\n",
    "    \n",
    "    if director:\n",
    "        parts.append(director)\n",
    "        \n",
    "    return \" \".join(parts)\n",
    "\n",
    "def directors_match(expected, actual):\n",
    "    \"\"\"\n",
    "    Checks if all expected directors are in the actual directors text\n",
    "    Both inputs can contain multiple names separated by commas\n",
    "    \"\"\"\n",
    "    norm_expected = set(item.strip().lower() for item in re.split(r\",|and\", expected))\n",
    "    norm_actual = set(item.strip().lower() for item in re.split(r\",|and\", actual))\n",
    "    return norm_expected.issubset(norm_actual)"
   ]
  },
  {
   "cell_type": "code",
   "execution_count": 114,
   "id": "de8e2c24",
   "metadata": {},
   "outputs": [],
   "source": [
    "def match_movie_info(page, movie_title: str, yr: None, directors=None):\n",
    "    # Must match film title or return \n",
    "    if not movie_title.lower() in page.title.lower():\n",
    "        return 0\n",
    "    \n",
    "    # Process page\n",
    "    total_matches = 0\n",
    "        \n",
    "    # Check for film in title\n",
    "    if \"film\" in page.title.lower():\n",
    "        total_matches += 1\n",
    "    \n",
    "    soup = BeautifulSoup(page.html())\n",
    "        \n",
    "    infobox = soup.find(\"table\", class_=\"infobox vevent\")\n",
    "    if infobox is None:\n",
    "        return total_matches\n",
    "    \n",
    "    info_rows = infobox.find_all(\"tr\")\n",
    "    for data_row in info_rows:\n",
    "        th = data_row.find(\"th\")\n",
    "        if th is None:\n",
    "            continue\n",
    "        \n",
    "        th_text = th.get_text(\" \", strip=True).lower()\n",
    "        td = data_row.find(\"td\")\n",
    "        td_text = td.get_text(\" \", strip=True).lower() if td else \"\"\n",
    "        \n",
    "        # Match directors\n",
    "        if \"directed by\" in th_text:\n",
    "            if directors_match(directors, td_text):\n",
    "                total_matches += 1\n",
    "                \n",
    "        # Match year\n",
    "        elif yr and \"release date\" in th_text:\n",
    "            if str(yr) in td_text:\n",
    "                total_matches += 1\n",
    "    \n",
    "    return total_matches"
   ]
  },
  {
   "cell_type": "code",
   "execution_count": 115,
   "id": "b6e5a842",
   "metadata": {},
   "outputs": [],
   "source": [
    "def get_wiki_id_for_movie(movie_info: dict):\n",
    "    \"\"\"Fetch Wikipedia page ID for a given movie\"\"\"\n",
    "    movie_title = movie_info.get('title', '')\n",
    "    yr = movie_info.get('year', None)\n",
    "    directors = movie_info.get('directors', '')\n",
    "    \n",
    "    # Build search query with title, year and directors' names\n",
    "    search_query = build_film_query(movie_title, yr, directors)\n",
    "    \n",
    "    # If the id exists in the catch, we return it\n",
    "    # Lock before reading, to avoid race conditions\n",
    "    with wiki_ids_dict_lock:\n",
    "        if page_id := wiki_ids_dict.get(search_query, None):\n",
    "            return page_id\n",
    "        \n",
    "    try:\n",
    "        # Search wikipedia for movie\n",
    "        search_result = wikipedia.search(search_query)\n",
    "        \n",
    "        # No matching result\n",
    "        if not search_result:\n",
    "            return None\n",
    "        \n",
    "        # Process search results for a match\n",
    "        # Check at most first 5 pages in the search result for a match\n",
    "        max_search = min(5, len(search_result))\n",
    "        for i in range(max_search):\n",
    "            try:\n",
    "                page = wikipedia.page(search_result[i], auto_suggest=True)\n",
    "                if match_movie_info(page, movie_title, yr, directors) < 2:\n",
    "                    continue\n",
    "                \n",
    "                # If matched the title and any two of directors, year and film,\n",
    "                # cache the pageid and return it\n",
    "                # Lock cache before writing to it\n",
    "                with wiki_ids_dict_lock:\n",
    "                    wiki_ids_dict[search_query] = page.pageid\n",
    "                    \n",
    "                return page.pageid\n",
    "            except (DisambiguationError, PageError):\n",
    "                continue \n",
    "            \n",
    "        # No match found\n",
    "        return None\n",
    "    except Exception as e:\n",
    "        print(f\"Unexpected error for {search_query}: {e}\")\n",
    "        return None"
   ]
  },
  {
   "cell_type": "code",
   "execution_count": null,
   "id": "454acbf7",
   "metadata": {},
   "outputs": [],
   "source": [
    "# def fetch_movies_wiki_pages():\n",
    "#     # # Update wiki_ids cache from disk\n",
    "#     # wiki_ids_dict = read_wiki_ids(\"data/wiki_ids.csv\")\n",
    "    \n",
    "#     # Fetch page ID for each movie and update movies data frame\n",
    "#     rows = df.to_dict(orient=\"records\")\n",
    "#     with ThreadPoolExecutor(max_workers=2) as ex:\n",
    "#         wiki_ids = ex.map(get_wiki_id_for_movie, rows)\n",
    "#     df['wiki_id'] = list(wiki_ids)\n",
    "    \n",
    "#     # Save cached wiki page IDs\n",
    "#     write_wiki_ids(\"data/wiki_ids.csv\")"
   ]
  },
  {
   "cell_type": "code",
   "execution_count": null,
   "id": "d715a479",
   "metadata": {
    "tags": [
     "otter_answer_cell"
    ]
   },
   "outputs": [
    {
     "name": "stderr",
     "output_type": "stream",
     "text": [
      "/Users/alfred.okoronkwo/Projects/hues_programs/cscie_1090a/cs1090a_hw1/.venv/lib/python3.13/site-packages/wikipedia/wikipedia.py:389: GuessedAtParserWarning: No parser was explicitly specified, so I'm using the best available HTML parser for this system (\"html.parser\"). This usually isn't a problem, but if you run this code on another system, or in a different virtual environment, it may use a different parser and behave differently.\n",
      "\n",
      "The code that caused this warning is on line 389 of the file /Users/alfred.okoronkwo/Projects/hues_programs/cscie_1090a/cs1090a_hw1/.venv/lib/python3.13/site-packages/wikipedia/wikipedia.py. To get rid of this warning, pass the additional argument 'features=\"html.parser\"' to the BeautifulSoup constructor.\n",
      "\n",
      "  lis = BeautifulSoup(html).find_all('li')\n"
     ]
    },
    {
     "name": "stdout",
     "output_type": "stream",
     "text": [
      "saving wiki ids\n",
      "saving wiki ids\n",
      "saving wiki ids\n",
      "saving wiki ids\n"
     ]
    }
   ],
   "source": [
    "# fetch_movies_wiki_pages()\n",
    "batch_wiki_ids = []\n",
    "rows = df.to_dict(orient=\"records\")\n",
    "batch_size = 50\n",
    "for i in range(0, len(rows), batch_size):\n",
    "    with ThreadPoolExecutor(max_workers=3) as ex:\n",
    "        wiki_ids = ex.map(get_wiki_id_for_movie, rows[i:i+batch_size])\n",
    "    batch_wiki_ids.extend(list(wiki_ids))\n",
    "    \n",
    "    # Sleep for 1 second\n",
    "    print(f\"saving wiki ids\")\n",
    "    time.sleep(1)\n",
    "\n",
    "df['wiki_id'] = batch_wiki_ids\n",
    "\n",
    "print(\"saving wiki ids\")\n",
    "\n",
    "# Save cached wiki ids to disk for reuse\n",
    "write_wiki_ids(\"data/wiki_ids.csv\")\n",
    "\n",
    "# display head of the updated dataframe\n",
    "df.head()"
   ]
  },
  {
   "cell_type": "code",
   "execution_count": null,
   "id": "6764473d-6052-4ed0-82db-ac6e7b34a7d6",
   "metadata": {
    "deletable": false,
    "editable": false
   },
   "outputs": [],
   "source": [
    "# Display results of updated df\n",
    "missing_rows = df[df.wiki_id.isna()]\n",
    "num_wiki_id_na = missing_rows.shape[0]\n",
    "print(\"Number of screenings missing a wiki ID:\", num_wiki_id_na)\n",
    "if num_wiki_id_na > 0:\n",
    "    print(\"Example rows with missing wiki ID\")\n",
    "    display.display(missing_rows)"
   ]
  },
  {
   "cell_type": "markdown",
   "id": "e58b8849-38eb-4687-90ab-349237d0d6eb",
   "metadata": {
    "deletable": false,
    "editable": false
   },
   "source": [
    "#### My Approach\n",
    "My approach is to create a search query with movie title, film, release year and directors. This query is used to search Wikipedia for matching pages. The topmost five pages from the search result are parse to check whether any contains the attributes in the query. A page is considered a match if it includes the movie title and at least two of the following: release year, directors, or the word film. Although this method is somewhat aggressive, it increases the likelihood that any matched page is the correct Wikipedia entry for the movie.\n",
    "\n",
    "First, previously discovered page ids are read from disk and cached in a dictionary, allowing for faster lookups when a pageid already exist for a query. To speed up searches, a ThreadPoolExecutor with two worker threads is used to parallelize requests to Wikipedia. Before a new search is performed, the cache is checked for an existing page ID. A Wikipedia search is only executed if no cached ID is found.\n",
    "\n",
    "Parsing search results involves checking whether the movie title is present in the page title, extracting the infobox table, and verifying the presence of the release date and directors. The page title is also checked for the word film. If a page satisfies the condition of containing the movie title and any two of release year, director, or film, it is considered a match, and its page ID is returned. To minimize processing overhead, only the top five search results are examined, as these are the most likely to correspond to the movie. All comparisons are case-insensitive.\n",
    "\n",
    "The text below is left as is from the downloaded notebook.\n",
    "\n",
    "With these missed pages the above approach is still suboptimal.\n",
    "The code makes aysnyc wikipedia searches of the form '\\<title> \\<director> film'. It then goes through the search result pages until it finds one in which half of its 'categories' (listed at the bottom of a Wikipedia page) are contain 'film'. It probably would have been better to check for certain fields in the infobox (the section on the top right of most wikipedia pages) rather than the looking at the categories."
   ]
  },
  {
   "cell_type": "code",
   "execution_count": null,
   "id": "4ded9d53",
   "metadata": {
    "deletable": false,
    "editable": false
   },
   "outputs": [],
   "source": [
    "grader.check(\"q6\")"
   ]
  },
  {
   "cell_type": "markdown",
   "id": "b4d6b0b6-93a9-4604-a218-bdefcc6bf484",
   "metadata": {
    "deletable": false,
    "editable": false
   },
   "source": [
    "<div class='md'>\n",
    "    \n",
    "<h3>7. Acquire HTML from wiki page and store in DataFrame</h3>\n",
    "\n",
    "<div class=prompt>\n",
    "    \n",
    "Use `'wiki_id'` to acquire the HTML content of each film's Wikipedia page and store it in a new column called `'wiki_html'`.\n",
    "</div>\n",
    "</div>"
   ]
  },
  {
   "cell_type": "code",
   "execution_count": null,
   "id": "aa69eeba",
   "metadata": {},
   "outputs": [],
   "source": [
    "def fetch_wiki_html(pageid):\n",
    "    if pd.isna(pageid):\n",
    "        return None\n",
    "    \n",
    "    try:\n",
    "        filename = f\"data/wiki_html/{pageid}.html\"\n",
    "        content = read_file(filename)\n",
    "        if content:\n",
    "            return content\n",
    "        \n",
    "        page = wikipedia.page(pageid=pageid, auto_suggest=False)\n",
    "        content = page.html()\n",
    "        write_file(filename, content)\n",
    "        return content\n",
    "    except Exception as e:\n",
    "        print(f\"Error fetching {pageid}: {e}\")\n",
    "        return None"
   ]
  },
  {
   "cell_type": "code",
   "execution_count": null,
   "id": "9c591d79",
   "metadata": {
    "tags": [
     "otter_answer_cell"
    ]
   },
   "outputs": [],
   "source": [
    "df['wiki_id'] = pd.to_numeric(df['wiki_id'], errors=\"coerce\").astype(\"Int64\")\n",
    "with ThreadPoolExecutor(max_workers=2) as ex:\n",
    "    df['wiki_html'] = list(ex.map(fetch_wiki_html, df['wiki_id']))"
   ]
  },
  {
   "cell_type": "code",
   "execution_count": null,
   "id": "444931d1-6a06-4971-a0af-5b89d3ccd676",
   "metadata": {
    "deletable": false,
    "editable": false
   },
   "outputs": [],
   "source": [
    "# Display results of updated df\n",
    "missing_rows = df[df.wiki_html.isna()]\n",
    "num_wiki_html_na = missing_rows.shape[0]\n",
    "print(\"Number of screenings missing wiki HTML:\", num_wiki_html_na)\n",
    "if num_wiki_html_na > 0:\n",
    "    print(\"Example rows with missing wiki HTML\")\n",
    "    display.display(missing_rows)"
   ]
  },
  {
   "cell_type": "code",
   "execution_count": null,
   "id": "95d49e25",
   "metadata": {
    "deletable": false,
    "editable": false
   },
   "outputs": [],
   "source": [
    "grader.check(\"q7\")"
   ]
  },
  {
   "cell_type": "markdown",
   "id": "8f7a9317-d9b5-4215-9f27-9df08d7b2f69",
   "metadata": {
    "deletable": false,
    "editable": false
   },
   "source": [
    "<div class=md>\n",
    "\n",
    "<h3>8. Adding Data from Wikipedia and Asking New Questions</h3>\n",
    "\n",
    "Now that we have Wikipedia pages for most or all of our movies, we can add supplemental data from those pages to our DataFrame, ask new questions, and use Pandas and visualizations to try and get some answers. This final section is very open-ended, and you are encouraged to experiment. We want to see what you can do!\n",
    "\n",
    "<div class='prompt'>\n",
    "\n",
    "1. **Data Extraction and Integration**\n",
    "   - Extract at least one new piece of data from each movie page you found.\n",
    "   - Add this data as a new column(s) to your DataFrame.\n",
    "   - Display the head of your updated DataFrame.\n",
    "   - Discuss your strategy for extracting the new data, including any challenges you faced and how you overcame them.\n",
    "\n",
    "2. **Data Analysis and Visualization**\n",
    "    - Formulate at least two new questions that involve the Wikipedia data you've added.\n",
    "    - For each question:\n",
    "      - Clearly state your question and why it's interesting or relevant.\n",
    "      - Describe your approach to answering the question.\n",
    "      - Use Pandas to manipulate and analyze the data as needed.\n",
    "      - Create at least one meaningful visualization that helps answer your question.\n",
    "      - Ensure your plots are well-labeled and easy to interpret.\n",
    "      - Interpret the results of your analysis, discussing any insights, patterns, or surprises you discovered.\n",
    "\n",
    "</div>\n",
    "\n",
    "**Hints:**\n",
    "- The 'info box' on the right side of most Wikipedia pages is fairly standardized across film pages. This might be the easiest place to start.\n",
    "- Some potential pieces of data to extract include the language of the film, its box office revenue or budget, the starring cast, etc.\n",
    "- Feel free to extract more than just a single new piece of data to use in your analysis. If you're feeling particularly adventurous, you can even jump from the film page to other linked pages to acquire more data!\n",
    "- Consider how the new data you've extracted might relate to the screening information you already have. Are there interesting connections or patterns to explore?\n",
    "\n",
    "Remember, the goal is to demonstrate your ability to ask insightful questions, use appropriate data science techniques to answer them, and effectively communicate your findings.\n",
    "</div>"
   ]
  },
  {
   "cell_type": "code",
   "execution_count": null,
   "id": "31d91d86",
   "metadata": {},
   "outputs": [],
   "source": [
    "def parse_wiki_html(content):\n",
    "    if content is None:\n",
    "        return None, None, None, None\n",
    "    \n",
    "    soup = BeautifulSoup(content)\n",
    "    \n",
    "    # Extract infobox\n",
    "    infobox = soup.find(\"table\", class_=\"infobox vevent\")\n",
    "    if infobox is None:\n",
    "        return None, None, None, None\n",
    "    \n",
    "    try:\n",
    "        country = None\n",
    "        language = None\n",
    "        budget = None\n",
    "        box_office = None\n",
    "        \n",
    "        info_rows = infobox.find_all(\"tr\")\n",
    "        for data_row in info_rows:\n",
    "            th = data_row.find(\"th\")\n",
    "            if th is None:\n",
    "                continue\n",
    "            \n",
    "            th_text = th.get_text(\" \", strip=True).lower()\n",
    "            td = data_row.find(\"td\")\n",
    "            td_text = td.get_text(\" \", strip=True).lower() if td else \"\"\n",
    "            td_text = td_text.split('[')[0].strip()\n",
    "            \n",
    "            if \"country\" in th_text or \"countries\" in th_text:\n",
    "                country = td_text\n",
    "            elif \"language\" in th_text:\n",
    "                language = td_text\n",
    "            elif \"budget\" in th_text:\n",
    "                budget = td_text\n",
    "            elif \"box office\" in th_text:\n",
    "                box_office = td_text\n",
    "                \n",
    "        return country, language, budget, box_office\n",
    "    except Exception as e:\n",
    "        print(f\"Exception parsing wiki html: {e}\")\n",
    "        return None, None, None, None"
   ]
  },
  {
   "cell_type": "code",
   "execution_count": null,
   "id": "ce124146-e7ee-421e-b249-2b421ad3d57b",
   "metadata": {
    "tags": [
     "otter_answer_cell"
    ]
   },
   "outputs": [],
   "source": [
    "# 1. Data Extraction and Integration\n",
    "with ThreadPoolExecutor(max_workers=8) as ex:\n",
    "    df[[\"countries\", \"language\", \"budget\", \"box_office\"]] = pd.DataFrame(\n",
    "        list(ex.map(parse_wiki_html, df['wiki_html'])), index=df.index\n",
    "    )\n",
    "    \n",
    "df.head()"
   ]
  },
  {
   "cell_type": "markdown",
   "id": "6b841e6f",
   "metadata": {},
   "source": [
    "#### My strategy:\n",
    "I utilize up to 8 worker threads to process the HTML content simultaneously and extract additional data from the wiki pages to enhance the initial movie information. The extra fields retrieved are Countries, Language, Budget, and Box Office — all located within the infobox table.\n",
    "\n",
    "Using multiple threads improves performance by reducing overall processing time. The BeautifulSoup library is employed to parse the HTML content, making data extraction straightforward, readable, and easy to implement.\n",
    "\n",
    "The process begins by locating the infobox, identified via HTML table attribute and the corresponding CSS class. All the table rows are then collected into a list. The parser iterates through this list, searching for specific tokens within the text of <th> tags in each row. Once a token is found, the corresponding <td> tag's text is extracted as the attribute value.\n",
    "\n",
    "Handling the Countries field posed some challenges. Initially, the token was set as \"country,\" but it was later observed that some movies list multiple countries and use the label \"Countries.\" Therefore, both \"country\" and \"countries\" are used as tokens. During processing, both tokens and extracted texts are normalized to lowercase to prevent mismatches caused by case differences.\n",
    "\n",
    "The Budget and Box Office fields contain monetary values with currency codes and descriptors like \"Million.\" Additional processing is necessary to standardize these values before further analysis."
   ]
  },
  {
   "cell_type": "markdown",
   "id": "d7188836",
   "metadata": {},
   "source": [
    "#### Problem 8, Part 2, Question 1:\n",
    "\n",
    "Which 10 languages have the largest movie screening?\n",
    "\n",
    "My approach is to group screenings by languages and plot a violin plot. -->"
   ]
  },
  {
   "cell_type": "code",
   "execution_count": null,
   "id": "69ce4c29-8c1f-4939-859b-632506dc636f",
   "metadata": {
    "tags": [
     "otter_answer_cell"
    ]
   },
   "outputs": [],
   "source": [
    "# 2. Data Analysis and Visualization\n",
    "# top10_df = df.dropna()\n",
    "# top10_movies = top10_df.groupby('language').size().reset_index(name=\"num_screenings\")\n",
    "# top10_movies = top10_movies.nlargest(10, 'num_screenings')\n",
    "# top10_movies\n",
    "\n",
    "# budget_df = df['box_office'].unique()\n",
    "df.head()"
   ]
  },
  {
   "cell_type": "code",
   "execution_count": null,
   "id": "5c37720d-10ea-4c90-95bf-d8ebb6a89e3d",
   "metadata": {
    "tags": [
     "otter_answer_cell"
    ]
   },
   "outputs": [],
   "source": [
    "# your code here\n",
    "plt.figure(figsize=(12,6))\n",
    "sns.barplot(data=top10_movies, x='language', y='num_screenings')\n",
    "plt.xticks(rotation=45)\n",
    "plt.title(\"Distribution of screenings for the 10 Languages\")\n",
    "plt.xlabel(\"Language\")\n",
    "plt.ylabel(\"Number of Screenings\")\n",
    "plt.tight_layout()\n",
    "plt.show()"
   ]
  },
  {
   "cell_type": "code",
   "execution_count": null,
   "id": "05d87af6",
   "metadata": {
    "tags": [
     "otter_answer_cell"
    ]
   },
   "outputs": [],
   "source": [
    "# your code here\n",
    "..."
   ]
  },
  {
   "cell_type": "code",
   "execution_count": null,
   "id": "76d899db-0e7d-4d80-87e4-1e100b9c0aa8",
   "metadata": {
    "tags": [
     "otter_answer_cell"
    ]
   },
   "outputs": [],
   "source": [
    "# your code here\n",
    "..."
   ]
  },
  {
   "cell_type": "markdown",
   "id": "30dce54e-0e1d-495c-9a9f-f9c3d59268a0",
   "metadata": {
    "deletable": false,
    "editable": false
   },
   "source": [
    "<div class=\"alert alert-info\" style=\"color: #4a4a4a; background-color: #fbe8ff; border-color: #eed4db; border-width: 1px; border-radius: 3px; padding: 10px;\">\n",
    "\n",
    "**Wrap-up**\n",
    "\n",
    "* Please describe the aspect(s) of the assignment you found most challenging. This could be conceptual and/or related to coding and implementation. This is also a good place to ask any remaining questions you may have.\n",
    "\n",
    "* How many hours did you spend working on this assignment? Store this as an int or float in `hours_spent_on_hw`. If you worked on the project in a group, report the *average* time spent per person.\n",
    "\n",
    "</div>"
   ]
  },
  {
   "cell_type": "code",
   "execution_count": null,
   "id": "4dea51b8-4184-486b-9073-465e6f724ffc",
   "metadata": {
    "tags": [
     "otter_answer_cell"
    ]
   },
   "outputs": [],
   "source": [
    "hours_spent_on_hw = ..."
   ]
  },
  {
   "cell_type": "code",
   "execution_count": null,
   "id": "5217aaf0",
   "metadata": {
    "deletable": false,
    "editable": false
   },
   "outputs": [],
   "source": [
    "grader.check(\"wrapup\")"
   ]
  },
  {
   "cell_type": "code",
   "execution_count": null,
   "id": "15cc0855-6ed3-42fa-a89a-0ea7f63956bc",
   "metadata": {},
   "outputs": [],
   "source": [
    "notebook_end = time.time()\n",
    "print(f\"It took {(notebook_end - notebook_start)/60:.2f} minutes for this notebook to run\")"
   ]
  },
  {
   "cell_type": "markdown",
   "id": "273e4ed6-d3d9-44aa-88f6-61f712d915d9",
   "metadata": {},
   "source": [
    "🌈 **This concludes HW1. Thank you!**"
   ]
  }
 ],
 "metadata": {
  "kernelspec": {
   "display_name": "cs1090a_hw1",
   "language": "python",
   "name": "python3"
  },
  "language_info": {
   "codemirror_mode": {
    "name": "ipython",
    "version": 3
   },
   "file_extension": ".py",
   "mimetype": "text/x-python",
   "name": "python",
   "nbconvert_exporter": "python",
   "pygments_lexer": "ipython3",
   "version": "3.13.4"
  },
  "otter": {
   "OK_FORMAT": true,
   "tests": {
    "q1": {
     "name": "q1",
     "points": 10,
     "suites": [
      {
       "cases": [
        {
         "code": ">>> expected_url = './data/html/screenboston.html'\n>>> assert os.path.isfile(expected_url), f'Expected local file {expected_url}'\n",
         "hidden": false,
         "locked": false,
         "points": 3
        },
        {
         "code": ">>> expected_url = './data/html/screenboston.html'\n>>> with open(expected_url, 'r') as f:\n...     content = f.read()\n...     s = BeautifulSoup(content)\n...     assert s.select_one('p').text == 'Screen Boston', f'Content of file saved from {expected_url} should contain a <p> tag with the page name.'\n",
         "hidden": false,
         "locked": false,
         "points": 4
        }
       ],
       "scored": true,
       "setup": "",
       "teardown": "",
       "type": "doctest"
      }
     ]
    },
    "q2": {
     "name": "q2",
     "points": 15,
     "suites": [
      {
       "cases": [
        {
         "code": ">>> n = 50\n>>> assert len(movies) > n, f'`movies` should contain more than {n} elements; you have {len(movies)}.'\n>>> assert all((isinstance(m, dict) for m in movies)), 'Elements of `movies` should all be dictionaries.'\n",
         "hidden": false,
         "locked": false,
         "points": 4
        },
        {
         "code": ">>> keys = {'title', 'directors', 'year', 'genre', 'runtime', 'theater', 'screen_date', 'screen_times'}\n>>> assert all((set(keys).issubset(m.keys()) for m in movies)), f\"Each dictionary in `movies` should contain all of these keys: {', '.join(keys)}. At least one dictionary is missing one or more keys.\"\n",
         "hidden": false,
         "locked": false,
         "points": 4
        },
        {
         "code": ">>> assert all((isinstance(m['year'], int) for m in movies)), \"The 'year' value should be an integer in all dictionaries.\"\n",
         "hidden": false,
         "locked": false,
         "points": 2
        }
       ],
       "scored": true,
       "setup": "",
       "teardown": "",
       "type": "doctest"
      }
     ]
    },
    "q3": {
     "name": "q3",
     "points": 15,
     "suites": [
      {
       "cases": [
        {
         "code": ">>> snapshots = glob.glob('./data/html/snapshot_*.html')\n>>> assert len(snapshots) >= 4, f'You should have at least 4 snapshots, but found {len(snapshots)} files with paths like ./data/html/snapshot_*.html'\n",
         "hidden": false,
         "locked": false,
         "points": 3
        },
        {
         "code": ">>> snapshots = glob.glob('./data/html/snapshot_*.html')\n>>> assert all((re.match('snapshot_\\\\d{8}\\\\.html', os.path.basename(f)) for f in snapshots)), \"All snapshot files should be named in the format 'snapshot_YYYYMMDD.html'\"\n",
         "hidden": false,
         "locked": false,
         "points": 2
        },
        {
         "code": ">>> assert os.path.isfile('data/movies.json'), \"The file 'data/movies.json' should exist.\"\n",
         "hidden": false,
         "locked": false,
         "points": 2
        },
        {
         "code": ">>> with open('data/movies.json', 'r') as f:\n...     movies = json.load(f)\n>>> n = 300\n>>> assert len(movies) > n, f'`movies` should now contain more than {n} elements; you have {len(movies)}.'\n",
         "hidden": false,
         "locked": false,
         "points": 3
        },
        {
         "code": ">>> keys = {'title', 'directors', 'year', 'genre', 'runtime', 'theater', 'screen_date', 'screen_times'}\n>>> assert all((isinstance(m, dict) and set(keys).issubset(m.keys()) for m in movies)), f\"Each dictionary in `movies` should contain all of these keys: {', '.join(keys)}. At least one dictionary is missing one or more keys.\"\n",
         "hidden": false,
         "locked": false,
         "points": 5
        }
       ],
       "scored": true,
       "setup": "",
       "teardown": "",
       "type": "doctest"
      }
     ]
    },
    "q4": {
     "name": "q4",
     "points": 15,
     "suites": [
      {
       "cases": [
        {
         "code": ">>> assert isinstance(df, pd.DataFrame), \"You should have stored your DataFrame in a variable called 'df'\"\n>>> assert df.shape[1] == 8, 'Your DataFrame, df, should have 8 columns'\n",
         "hidden": false,
         "locked": false,
         "points": 3
        },
        {
         "code": ">>> assert df.shape[0] > 300, 'You should have found at least 300 non-duplicate rows'\n>>> assert df.shape[0] == df.drop_duplicates().shape[0], 'There are still duplicate rows in your DataFrame'\n",
         "hidden": false,
         "locked": false,
         "points": 3
        },
        {
         "code": ">>> def is_datetime_column_hacky(column):\n...     dtype_str = str(column.dtype)\n...     valid_types = ['date', 'timestamp', 'timedelta', 'duration']\n...     return any((t in dtype_str.lower() for t in valid_types))\n>>> assert is_datetime_column_hacky(df['screen_date']), \"The 'screen_date' column must be either a Pandas or PyArrow date/datetime type.\"\n",
         "hidden": false,
         "locked": false,
         "points": 2
        },
        {
         "code": ">>> def is_datetime_column_hacky(column):\n...     dtype_str = str(column.dtype)\n...     valid_types = ['date', 'timestamp', 'timedelta', 'duration']\n...     return any((t in dtype_str.lower() for t in valid_types))\n>>> assert is_datetime_column_hacky(df['runtime']), \"The 'runtime' column must be either a Pandas or PyArrow timedelta type.\"\n",
         "hidden": false,
         "locked": false,
         "points": 2
        },
        {
         "code": ">>> assert df['screen_date'].is_monotonic_increasing, \"The 'screen_date' column is not sorted in ascending order\"\n",
         "hidden": false,
         "locked": false,
         "points": 2
        }
       ],
       "scored": true,
       "setup": "",
       "teardown": "",
       "type": "doctest"
      }
     ]
    },
    "q6": {
     "name": "q6",
     "points": 7,
     "suites": [
      {
       "cases": [
        {
         "code": ">>> assert 'wiki_id' in df.columns, \"`df` should now have a column called 'wiki_id'.\"\n",
         "hidden": false,
         "locked": false,
         "points": 2
        },
        {
         "code": ">>> p = 0.5\n>>> assert (q := df['wiki_id'].notna().mean()) >= p, f'You should have been able to find wiki IDs for at least {p:.0%} of the screenings. You found {q:.0%}.'\n",
         "hidden": false,
         "locked": false,
         "points": 3
        }
       ],
       "scored": true,
       "setup": "",
       "teardown": "",
       "type": "doctest"
      }
     ]
    },
    "q7": {
     "name": "q7",
     "points": 3,
     "suites": [
      {
       "cases": [
        {
         "code": ">>> assert 'wiki_html' in df.columns, \"`df` should now have a column called 'wiki_html'.\"\n",
         "hidden": false,
         "locked": false,
         "points": 1
        },
        {
         "code": ">>> p = 0.5\n>>> assert (q := df['wiki_html'].notna().mean()) >= p, f'You should have been able to acquire wiki page HTML content for at least {p:.0%} of the screenings. You found {q:.0%}.'\n",
         "hidden": false,
         "locked": false,
         "points": 2
        }
       ],
       "scored": true,
       "setup": "",
       "teardown": "",
       "type": "doctest"
      }
     ]
    },
    "wrapup": {
     "name": "wrapup",
     "points": 5,
     "suites": [
      {
       "cases": [
        {
         "code": ">>> assert float(hours_spent_on_hw), 'Please select a time in hours (int or float) to specify how long you spent on this assignment.'\n",
         "hidden": false,
         "locked": false,
         "points": 5
        }
       ],
       "scored": true,
       "setup": "",
       "teardown": "",
       "type": "doctest"
      }
     ]
    }
   }
  }
 },
 "nbformat": 4,
 "nbformat_minor": 5
}
