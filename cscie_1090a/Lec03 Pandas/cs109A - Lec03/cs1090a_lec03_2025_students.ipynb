{
    "metadata": {
        "kernelspec": {
            "name": "python3",
            "display_name": "Python 3 (ipykernel)",
            "language": "python"
        }
    },
    "nbformat": 4,
    "nbformat_minor": 5,
    "cells": [
        {
            "cell_type": "code",
            "execution_count": 0,
            "metadata": {},
            "outputs": [],
            "source": [
                ""
            ]
        },
        {
            "attachments": {},
            "cell_type": "markdown",
            "metadata": {},
            "source": [
                "\u003ch1 style=\"padding-top: 25px;padding-bottom: 25px;text-align: left; padding-left: 10px; background-color: #DDDDDD; \n",
                "    color: black;\"\u003e \u003cimg style=\"float: left; padding-right: 10px; width: 45px\" src=\"https://raw.githubusercontent.com/Harvard-IACS/2018-CS109A/master/content/styles/iacs.png\"\u003e CS1090A Introduction to Data Science \u003c/h1\u003e\n",
                "\n",
                "## Lecture 3: Introduction to Pandas\n",
                "\n",
                "**Harvard University**\u003cbr/\u003e\n",
                "**Fall 2025**\u003cbr/\u003e\n",
                "**Instructors**: Pavlos Protopapas, Kevin Rader\u003c/br\u003e\n",
                "**Preceptor**: Chris Gumb\n",
                "\n",
                "\n",
                "\u003chr style='height:2px'\u003e"
            ]
        },
        {
            "attachments": {},
            "cell_type": "markdown",
            "metadata": {},
            "source": [
                "### Outline\n",
                "In this class we'll get familiar with the two Pandas data structures, the `Series` and the `DataFrame`, and the various methods for manipulating the data they contain.\n",
                "\n",
                "We'll start by simply understanding the data structure objects themselves, constructing them from more familiar Python data structures like lists and dictionaries. We'll then motivate subsequent examples by asking questions about the [student survey](https://forms.gle/zZ487CpYfPstrDui7) data which we'll load into a DataFrame from a CSV.\n",
                "\n",
                "A very simple markdown scaffold exists with some guiding questions, but students are encouraged to ask questions about how to accomplish different goals with Pandas. All code will be written on the spot (🤞), but you'll have access to a completed notebook on Ed under \"solutions\" if you want to peek.\n",
                "\n",
                "### Resources\n",
                "- There is additional Pandas material in the [Bedrock Data Science](https://edstem.org/us/courses/83082/lessons/147401/slides/851872) and [Bedrock Codecasts \u0026 Tutorials](https://edstem.org/us/courses/83082/lessons/147410/slides/851967)sections on Ed\n",
                "- Pandas has their own quick start guide, [Pandas in 10 Minutes](https://pandas.pydata.org/pandas-docs/stable/user_guide/10min.html) (though that seems like a gross underestimate)\n",
                "- Make friends with the [Pandas documentation](https://pandas.pydata.org/pandas-docs/stable/index.html)\n",
                "  \n",
                "### Pandas Data Structures\n",
                "\n",
                "#### Series\n",
                "You can think of a Series as a kind of wrapper for a numpy array which provides some helpful attributes and methods.\n",
                "- Constructing a Series from Python lists.\n",
                "- Demonstrate attributes like `values`, `index`, `name`, `dtype`.\n",
                "- Some basic methods like `head()`, `tail()`, `describe()`."
            ]
        },
        {
            "cell_type": "code",
            "execution_count": 0,
            "metadata": {},
            "outputs": [],
            "source": [
                ""
            ]
        },
        {
            "cell_type": "code",
            "execution_count": 0,
            "metadata": {},
            "outputs": [],
            "source": [
                ""
            ]
        },
        {
            "cell_type": "code",
            "execution_count": 0,
            "metadata": {},
            "outputs": [],
            "source": [
                ""
            ]
        },
        {
            "cell_type": "code",
            "execution_count": 0,
            "metadata": {},
            "outputs": [],
            "source": [
                ""
            ]
        },
        {
            "cell_type": "code",
            "execution_count": 0,
            "metadata": {},
            "outputs": [],
            "source": [
                ""
            ]
        },
        {
            "cell_type": "code",
            "execution_count": 0,
            "metadata": {},
            "outputs": [],
            "source": [
                ""
            ]
        },
        {
            "cell_type": "code",
            "execution_count": 0,
            "metadata": {},
            "outputs": [],
            "source": [
                ""
            ]
        },
        {
            "cell_type": "code",
            "execution_count": 0,
            "metadata": {},
            "outputs": [],
            "source": [
                ""
            ]
        },
        {
            "attachments": {},
            "cell_type": "markdown",
            "metadata": {},
            "source": [
                "#### DataFrame\n",
                "- How to construct from Python lists, dictionaries, and Series.\n",
                "- Attributes like `shape`, `columns`, `index`, `values`.\n",
                "- Methods like `head()`, `tail()`, `info()`, `describe()`.\n",
                "- Combining DataFrames with `pd.concatenate()` and `pd.merge()`"
            ]
        },
        {
            "attachments": {},
            "cell_type": "markdown",
            "metadata": {},
            "source": [
                "A DataFrame is basically just a bunch of Series objects bound together by common indices.\n",
                "\n",
                "A common way to built a DataFrame is to use a list of dictionaries. Each dictionary is a row and the key-value pairs designate which value appears in which Series (column). For example:"
            ]
        },
        {
            "cell_type": "code",
            "execution_count": 0,
            "metadata": {},
            "outputs": [],
            "source": [
                ""
            ]
        },
        {
            "cell_type": "code",
            "execution_count": 0,
            "metadata": {},
            "outputs": [],
            "source": [
                ""
            ]
        },
        {
            "attachments": {},
            "cell_type": "markdown",
            "metadata": {},
            "source": [
                "### Data Loading and Inspection\n",
                "- Use `pd.read_csv()` to load data.\n",
                "- Initial inspection using `shape`, `head()`, `tail()`, `columns`, `dtypes`, and `describe()`."
            ]
        },
        {
            "attachments": {},
            "cell_type": "markdown",
            "metadata": {},
            "source": [
                "Read the survey CSV into a Pandas DataFrame"
            ]
        },
        {
            "cell_type": "code",
            "execution_count": 0,
            "metadata": {},
            "outputs": [],
            "source": [
                ""
            ]
        },
        {
            "attachments": {},
            "cell_type": "markdown",
            "metadata": {},
            "source": [
                "Take a quick look at a few rows."
            ]
        },
        {
            "cell_type": "code",
            "execution_count": 0,
            "metadata": {},
            "outputs": [],
            "source": [
                ""
            ]
        },
        {
            "attachments": {},
            "cell_type": "markdown",
            "metadata": {},
            "source": [
                "How many rows and columns are there?"
            ]
        },
        {
            "cell_type": "code",
            "execution_count": 0,
            "metadata": {},
            "outputs": [],
            "source": [
                ""
            ]
        },
        {
            "attachments": {},
            "cell_type": "markdown",
            "metadata": {},
            "source": [
                "What are all the columns?"
            ]
        },
        {
            "cell_type": "code",
            "execution_count": 0,
            "metadata": {
                "scrolled": true
            },
            "outputs": [],
            "source": [
                ""
            ]
        },
        {
            "attachments": {},
            "cell_type": "markdown",
            "metadata": {},
            "source": [
                "Can we get any summary statistics from the columns?"
            ]
        },
        {
            "cell_type": "code",
            "execution_count": 0,
            "metadata": {},
            "outputs": [],
            "source": [
                ""
            ]
        },
        {
            "attachments": {},
            "cell_type": "markdown",
            "metadata": {},
            "source": [
                "What are the in data types of each columns?"
            ]
        },
        {
            "cell_type": "code",
            "execution_count": 0,
            "metadata": {
                "scrolled": true
            },
            "outputs": [],
            "source": [
                ""
            ]
        },
        {
            "attachments": {},
            "cell_type": "markdown",
            "metadata": {},
            "source": [
                "### Data Cleaning\n",
                "\n",
                "#### Do we need all of the columns? Are the column names useable? Do we need to change data types? Do we have missing values?\n",
                "\n",
                "- `drop` (for rows or columns)\n",
                "- `apply` arbitrary functions applied to a column(s)\n",
                "- `astype` to convert column dtype\n",
                "- `str` methods on columns\n",
                "- `info()` and `isna` for missing values.\n",
                "- Discuss `NaN` and methods like `fillna()`, `dropna()`."
            ]
        },
        {
            "attachments": {},
            "cell_type": "markdown",
            "metadata": {},
            "source": [
                "The column names are too long to be practical. We should rename them."
            ]
        },
        {
            "cell_type": "code",
            "execution_count": 0,
            "metadata": {},
            "outputs": [],
            "source": [
                "cols = [\n",
                "    \"timestamp\",\"program\",\"jupyter\",\"python_exp\",\"pandas_skill\",\"os\",\"dark_mode\",\n",
                "    \"languages\",\"continents\",\"dob\",\"wake_time\",\"sleep_time\",\"fav_season\",\n",
                "    \"caffeine\",\"pet\",\"fav_movie\",\"fav_genres\",\"hobbies\",\"hw0\"\n",
                "]"
            ]
        },
        {
            "cell_type": "code",
            "execution_count": 0,
            "metadata": {},
            "outputs": [],
            "source": [
                ""
            ]
        },
        {
            "attachments": {},
            "cell_type": "markdown",
            "metadata": {},
            "source": [
                "We won't use the timestamp, so **we should drop it**."
            ]
        },
        {
            "cell_type": "code",
            "execution_count": 0,
            "metadata": {},
            "outputs": [],
            "source": [
                ""
            ]
        },
        {
            "attachments": {},
            "cell_type": "markdown",
            "metadata": {},
            "source": [
                "`dark_mode` is a boolean (True/False) variable. Making the dtype reflect this will save time later."
            ]
        },
        {
            "cell_type": "code",
            "execution_count": 0,
            "metadata": {},
            "outputs": [],
            "source": [
                ""
            ]
        },
        {
            "attachments": {},
            "cell_type": "markdown",
            "metadata": {},
            "source": [
                "Converting categorical variables like `os` to the `category` dtype can have many advantages. In large datasets this can mean increased speed and memory efficiency. It can also enforce that a variable only take on a perscribed set of values."
            ]
        },
        {
            "cell_type": "code",
            "execution_count": 0,
            "metadata": {},
            "outputs": [],
            "source": [
                ""
            ]
        },
        {
            "attachments": {},
            "cell_type": "markdown",
            "metadata": {},
            "source": [
                "The `category` dtype is also useful to impose an odering on variables that are not strictly numeric. We call such variables \"ordinal.\"\n",
                "\n",
                "This is the case for the `python_exp` variable. Let's convert that column now and specify a sensible order with the help of `pandas.api.types.CategoricalDtype`."
            ]
        },
        {
            "cell_type": "code",
            "execution_count": 0,
            "metadata": {},
            "outputs": [],
            "source": [
                ""
            ]
        },
        {
            "cell_type": "code",
            "execution_count": 0,
            "metadata": {},
            "outputs": [],
            "source": [
                ""
            ]
        },
        {
            "cell_type": "code",
            "execution_count": 0,
            "metadata": {},
            "outputs": [],
            "source": [
                "experience_order = pd.CategoricalDtype(categories=['Less than 1 year', '1-2 years', '2-4 years', '4+ years'], ordered=True)\n",
                "df['python_experience'] = df.python_exp.astype(experience_order)\n",
                "df.python_exp"
            ]
        },
        {
            "attachments": {},
            "cell_type": "markdown",
            "metadata": {},
            "source": [
                "**Text Normalization**\n",
                "\n",
                "For columns whose values were manually typed by the user, upper- and lowercase may not have been use constentily across all entries. For this reason it is usually advised to convert all string columns to lowercase."
            ]
        },
        {
            "cell_type": "code",
            "execution_count": 0,
            "metadata": {},
            "outputs": [],
            "source": [
                "# Here's one way to do this\n",
                "str_cols = df.columns[df.dtypes == 'object']\n",
                "for c in str_cols:\n",
                "    df[c] = df[c].str.lower()\n",
                "df.head()"
            ]
        },
        {
            "attachments": {},
            "cell_type": "markdown",
            "metadata": {},
            "source": [
                "Do we have any **duplicate rows**?"
            ]
        },
        {
            "cell_type": "code",
            "execution_count": 0,
            "metadata": {},
            "outputs": [],
            "source": [
                ""
            ]
        },
        {
            "attachments": {},
            "cell_type": "markdown",
            "metadata": {},
            "source": [
                "Do any columns have **missing values**?"
            ]
        },
        {
            "cell_type": "code",
            "execution_count": 0,
            "metadata": {},
            "outputs": [],
            "source": [
                ""
            ]
        },
        {
            "attachments": {},
            "cell_type": "markdown",
            "metadata": {},
            "source": [
                "How many are missing in each?"
            ]
        },
        {
            "cell_type": "code",
            "execution_count": 0,
            "metadata": {},
            "outputs": [],
            "source": [
                ""
            ]
        },
        {
            "attachments": {},
            "cell_type": "markdown",
            "metadata": {},
            "source": [
                "Let's inspect the rows with more than a single missing value."
            ]
        },
        {
            "cell_type": "code",
            "execution_count": 0,
            "metadata": {},
            "outputs": [],
            "source": [
                ""
            ]
        },
        {
            "attachments": {},
            "cell_type": "markdown",
            "metadata": {},
            "source": [
                "For any students in a bacherlor's program whose `dob` is NA (there is at least one), fill in the mean `dob` of all other bacheloar's students who *do* have a reported age."
            ]
        },
        {
            "attachments": {},
            "cell_type": "markdown",
            "metadata": {},
            "source": [
                "What rows would we have remaining if we dropped all rows a missing value for `hobbies`?"
            ]
        },
        {
            "cell_type": "code",
            "execution_count": 0,
            "metadata": {},
            "outputs": [],
            "source": [
                ""
            ]
        },
        {
            "attachments": {},
            "cell_type": "markdown",
            "metadata": {},
            "source": [
                "### Filtering, Subsetting, Sorting, and Counting\n",
                "\n",
                "- Boolean indexing.\n",
                "- Using `.loc[]` and `.iloc[]`\n",
                "- `sort_values`\n",
                "\n",
                "Among the students who prefer coding in dark mode, who is the youngest?"
            ]
        },
        {
            "cell_type": "code",
            "execution_count": 0,
            "metadata": {
                "scrolled": true
            },
            "outputs": [],
            "source": [
                ""
            ]
        },
        {
            "attachments": {},
            "cell_type": "markdown",
            "metadata": {},
            "source": [
                "### Starting to Ask More Complex Questions\n",
                "- `unique()`\n",
                "- `value_counts()`\n",
                "- `replace()`\n",
                "- `plot()`\n",
                "- `explode()`\n",
                "- `to_numeric()`"
            ]
        },
        {
            "attachments": {},
            "cell_type": "markdown",
            "metadata": {},
            "source": [
                "How many unique programs are represented?"
            ]
        },
        {
            "cell_type": "code",
            "execution_count": 0,
            "metadata": {},
            "outputs": [],
            "source": [
                ""
            ]
        },
        {
            "attachments": {},
            "cell_type": "markdown",
            "metadata": {},
            "source": [
                "How many students are in each program?"
            ]
        },
        {
            "cell_type": "code",
            "execution_count": 0,
            "metadata": {},
            "outputs": [],
            "source": [
                ""
            ]
        },
        {
            "attachments": {},
            "cell_type": "markdown",
            "metadata": {},
            "source": [
                "Some of the \"other\" program options added by form users seem to refer to the same thing but are just written differently. Consider the Extension School's gratuate certificate for example.\n",
                "\n",
                "Can we do something to combine these different entries which in fact refer to the same idea?"
            ]
        },
        {
            "cell_type": "code",
            "execution_count": 0,
            "metadata": {},
            "outputs": [],
            "source": [
                "df['program'] = df.program.replace(r\".*certificate.*\", \"graduate certificate [extension school]\", regex=True)\n",
                "df.program.value_counts()"
            ]
        },
        {
            "attachments": {},
            "cell_type": "markdown",
            "metadata": {},
            "source": [
                "Can we visualize these new counts?"
            ]
        },
        {
            "cell_type": "code",
            "execution_count": 0,
            "metadata": {},
            "outputs": [],
            "source": [
                ""
            ]
        },
        {
            "attachments": {},
            "cell_type": "markdown",
            "metadata": {},
            "source": [
                "Can we do something similar for `python_experience` and `pandas_skill`, but this time the proportion rather than count?"
            ]
        },
        {
            "cell_type": "code",
            "execution_count": 0,
            "metadata": {},
            "outputs": [],
            "source": [
                ""
            ]
        },
        {
            "cell_type": "code",
            "execution_count": 0,
            "metadata": {},
            "outputs": [],
            "source": [
                ""
            ]
        },
        {
            "attachments": {},
            "cell_type": "markdown",
            "metadata": {},
            "source": [
                "What are all the languages CS1090A students speak?"
            ]
        },
        {
            "cell_type": "code",
            "execution_count": 0,
            "metadata": {},
            "outputs": [],
            "source": [
                ""
            ]
        },
        {
            "cell_type": "code",
            "execution_count": 0,
            "metadata": {},
            "outputs": [],
            "source": [
                "df.languages.str.split(', ').explode().replace(r'.*mandarin.*|madarin|(chinese$)', 'chinese (mandarin)', regex=True).unique().tolist()"
            ]
        },
        {
            "attachments": {},
            "cell_type": "markdown",
            "metadata": {},
            "source": [
                "**What is the greatest number of languages spoken by a CS109A student?**"
            ]
        },
        {
            "cell_type": "code",
            "execution_count": 0,
            "metadata": {},
            "outputs": [],
            "source": [
                ""
            ]
        },
        {
            "attachments": {},
            "cell_type": "markdown",
            "metadata": {},
            "source": [
                "**What is the average number of languages spoken by students in programs with at least 2 representatives?**(ideally, sorted)"
            ]
        },
        {
            "cell_type": "code",
            "execution_count": 0,
            "metadata": {},
            "outputs": [],
            "source": [
                ""
            ]
        },
        {
            "attachments": {},
            "cell_type": "markdown",
            "metadata": {},
            "source": [
                "### Data Aggregation and Grouping\n",
                "\n",
                "- `groupby()`\n",
                "- `agg()`\n",
                "- Aggregation functions like `mean()`, `count()`, `sum()`.\n",
                "\n",
                "We first need to find which are the big programs to filter the df."
            ]
        },
        {
            "cell_type": "code",
            "execution_count": 0,
            "metadata": {},
            "outputs": [],
            "source": [
                "program_counts = df.program.value_counts()\n",
                "big_programs = program_counts[program_counts \u003e= 2].index\n",
                "df[df.program.isin(big_programs)].groupby('program')['num_languages'].mean().sort_values()"
            ]
        },
        {
            "attachments": {},
            "cell_type": "markdown",
            "metadata": {},
            "source": [
                "Does dark mode preference vary by operating system?\n",
                "\n",
                "`pd.crosstab` helps here."
            ]
        },
        {
            "cell_type": "code",
            "execution_count": 0,
            "metadata": {},
            "outputs": [],
            "source": [
                "dark_mode_os_crosstab = pd.crosstab(df['os'], df['dark_mode'])\n",
                "dark_mode_os_crosstab"
            ]
        },
        {
            "attachments": {},
            "cell_type": "markdown",
            "metadata": {},
            "source": [
                "What the distribution of student ages?"
            ]
        },
        {
            "cell_type": "code",
            "execution_count": 0,
            "metadata": {},
            "outputs": [],
            "source": [
                "# Just make sure dob is a datetime (invalid -\u003e nat)\n",
                "df[\"dob\"] = pd.to_datetime(df[\"dob\"], errors=\"coerce\")\n",
                "\n",
                "# Compute age in years (floor). Result is nullable integer (Int64).\n",
                "now = pd.Timestamp.now()\n",
                "age_years = np.floor((now - df[\"dob\"]).dt.days / 365.25).astype(\"Int64\")\n",
                "\n",
                "df.loc[:, \"age\"] = age_years\n",
                "df.age"
            ]
        },
        {
            "cell_type": "code",
            "execution_count": 0,
            "metadata": {},
            "outputs": [],
            "source": [
                ""
            ]
        },
        {
            "attachments": {},
            "cell_type": "markdown",
            "metadata": {},
            "source": [
                "Some stats.."
            ]
        },
        {
            "cell_type": "code",
            "execution_count": 0,
            "metadata": {},
            "outputs": [],
            "source": [
                ""
            ]
        },
        {
            "attachments": {},
            "cell_type": "markdown",
            "metadata": {},
            "source": [
                "And a plot!"
            ]
        },
        {
            "cell_type": "code",
            "execution_count": 0,
            "metadata": {},
            "outputs": [],
            "source": [
                ""
            ]
        },
        {
            "cell_type": "code",
            "execution_count": 0,
            "metadata": {},
            "outputs": [],
            "source": [
                ""
            ]
        },
        {
            "attachments": {},
            "cell_type": "markdown",
            "metadata": {},
            "source": [
                "**Bar plot of mean Pandas skill by OS type**"
            ]
        },
        {
            "cell_type": "code",
            "execution_count": 0,
            "metadata": {},
            "outputs": [],
            "source": [
                "df.groupby('os', observed=False)['pandas_skill'].mean().plot(kind='bar', title = 'Pandas Skill');"
            ]
        },
        {
            "attachments": {},
            "cell_type": "markdown",
            "metadata": {},
            "source": [
                "What about something related to the HW0 emoji valued column?"
            ]
        },
        {
            "cell_type": "code",
            "execution_count": 0,
            "metadata": {},
            "outputs": [],
            "source": [
                ""
            ]
        },
        {
            "cell_type": "code",
            "execution_count": 0,
            "metadata": {},
            "outputs": [],
            "source": [
                "emoji_order = pd.CategoricalDtype(categories=['🍰', '😎', '🧐', '😅', '😱', '☠️'], ordered=True)\n",
                "\n",
                "df['hw0'] = df['hw0'].astype(emoji_order)\n",
                "\n",
                "emoji_counts = df.groupby(['python_experience', 'hw0'], observed=False).size().unstack(fill_value=0)\n",
                "\n",
                "emoji_proportions = emoji_counts.div(emoji_counts.sum(axis=1), axis=0)\n",
                "\n",
                "emoji_proportions"
            ]
        },
        {
            "attachments": {},
            "cell_type": "markdown",
            "metadata": {},
            "source": [
                "### Writing to Files\n",
                "\n",
                "#### You can save your cleaned dataset to a new CSV file\n",
                "- `to_csv()`\n",
                "- `index` argument"
            ]
        },
        {
            "cell_type": "code",
            "execution_count": 0,
            "metadata": {},
            "outputs": [],
            "source": [
                ""
            ]
        },
        {
            "attachments": {},
            "cell_type": "markdown",
            "metadata": {},
            "source": [
                "🌈 **The End**"
            ]
        },
        {
            "cell_type": "code",
            "execution_count": 0,
            "metadata": {},
            "outputs": [],
            "source": [
                ""
            ]
        }
    ]
}
