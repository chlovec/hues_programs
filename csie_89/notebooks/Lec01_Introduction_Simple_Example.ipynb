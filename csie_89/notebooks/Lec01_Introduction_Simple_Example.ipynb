{
 "cells": [
  {
   "cell_type": "markdown",
   "id": "a6094e13",
   "metadata": {},
   "source": [
    "## CSCI E-89 Deep Learning\n",
    "### Lecture 01 Introduction to AI, ML & DL\n",
    "## A Simple Example\n",
    "#### 09/06/2024\n"
   ]
  },
  {
   "cell_type": "markdown",
   "id": "13e81cb8",
   "metadata": {},
   "source": [
    "### Setup TensorFlow"
   ]
  },
  {
   "cell_type": "code",
   "execution_count": null,
   "id": "505a97ec",
   "metadata": {},
   "outputs": [],
   "source": [
    "import tensorflow as tf\n",
    "print(tf.__version__)"
   ]
  },
  {
   "cell_type": "code",
   "execution_count": null,
   "id": "e50fd781",
   "metadata": {},
   "outputs": [],
   "source": [
    "!uv pip install matplotlib"
   ]
  },
  {
   "cell_type": "code",
   "execution_count": null,
   "id": "27eb3bec",
   "metadata": {},
   "outputs": [],
   "source": [
    "# Auxiliary libraries\n",
    "# Helper libraries\n",
    "import numpy as np\n",
    "import matplotlib.pyplot as plt"
   ]
  },
  {
   "cell_type": "markdown",
   "id": "eb79f593",
   "metadata": {},
   "source": [
    "#### Load a dataset"
   ]
  },
  {
   "cell_type": "code",
   "execution_count": null,
   "id": "a07fbe6d",
   "metadata": {},
   "outputs": [],
   "source": [
    "mnist = tf.keras.datasets.mnist\n",
    "\n",
    "(x_train, y_train), (x_test, y_test) = mnist.load_data()\n",
    "x_train, x_test = x_train / 255.0, x_test / 255.0"
   ]
  },
  {
   "cell_type": "markdown",
   "id": "7fa59131",
   "metadata": {},
   "source": [
    "Images are of 28X28 pixels. Lables are integers: 0, 1, 2,..., 9"
   ]
  },
  {
   "cell_type": "code",
   "execution_count": null,
   "id": "e8150c3a",
   "metadata": {},
   "outputs": [],
   "source": [
    "print(x_train.shape, y_train.shape)"
   ]
  },
  {
   "cell_type": "code",
   "execution_count": null,
   "id": "a896c8b4",
   "metadata": {},
   "outputs": [],
   "source": [
    "y_train"
   ]
  },
  {
   "cell_type": "markdown",
   "id": "b35c1106",
   "metadata": {},
   "source": [
    "#### Inspect an image"
   ]
  },
  {
   "cell_type": "code",
   "execution_count": null,
   "id": "397cf3d7",
   "metadata": {},
   "outputs": [],
   "source": [
    "index = 89\n",
    "print(y_train[index])\n",
    "plt.figure()\n",
    "plt.imshow(x_train[index])\n",
    "plt.colorbar()\n",
    "plt.grid(False)\n",
    "plt.show()"
   ]
  },
  {
   "cell_type": "markdown",
   "id": "7d37fff3",
   "metadata": {},
   "source": [
    "#### Build a machine learning model"
   ]
  },
  {
   "cell_type": "markdown",
   "id": "7755380e",
   "metadata": {},
   "source": [
    "Sequential model is useful for stacking layers where each layer has one input tensor and one output tensor. Layers are functions with a known mathematical structure that can be reused and have trainable variables. Most TensorFlow models are composed of layers. This model uses the Flatten, Dense, and Dropout layers."
   ]
  },
  {
   "cell_type": "code",
   "execution_count": null,
   "id": "ee489227",
   "metadata": {},
   "outputs": [],
   "source": [
    "model = tf.keras.models.Sequential([\n",
    "  tf.keras.layers.Flatten(input_shape=(28, 28)),\n",
    "  tf.keras.layers.Dense(128, activation='relu'),\n",
    "  tf.keras.layers.Dropout(0.2),\n",
    "  tf.keras.layers.Dense(10)\n",
    "])"
   ]
  },
  {
   "cell_type": "markdown",
   "id": "0e5a2b18",
   "metadata": {},
   "source": [
    "For each example, the model returns a vector of logits or log-odds scores, one for each class."
   ]
  },
  {
   "cell_type": "code",
   "execution_count": null,
   "id": "aaeebe0c",
   "metadata": {},
   "outputs": [],
   "source": [
    "predictions = model(x_train[:1]).numpy()\n",
    "predictions"
   ]
  },
  {
   "cell_type": "markdown",
   "id": "1f2ff8c6",
   "metadata": {},
   "source": [
    "The `tf.nn.softmax`function converts these logits to probabilities for each class:"
   ]
  },
  {
   "cell_type": "code",
   "execution_count": null,
   "id": "03a7bd1e",
   "metadata": {},
   "outputs": [],
   "source": [
    "tf.nn.softmax(predictions).numpy()"
   ]
  },
  {
   "cell_type": "markdown",
   "id": "5b13dc61",
   "metadata": {},
   "source": [
    "Define a loss function for training using `losses.SparseCategoricalCrossentropy`:"
   ]
  },
  {
   "cell_type": "code",
   "execution_count": null,
   "id": "c0d66434",
   "metadata": {},
   "outputs": [],
   "source": [
    "loss_fn = tf.keras.losses.SparseCategoricalCrossentropy(from_logits=True)"
   ]
  },
  {
   "cell_type": "markdown",
   "id": "e3e7b955",
   "metadata": {},
   "source": [
    "The loss function takes a vector of ground truth values and a vector of logits and returns a scalar loss for each example. This loss is equal to the negative log probability of the true class: The loss is zero if the model is sure of the correct class.\n",
    "\n",
    "This untrained model gives probabilities close to random (1/10 for each class), so the initial loss should be close to `-tf.math.log(1/10) ~= 2.3`."
   ]
  },
  {
   "cell_type": "code",
   "execution_count": null,
   "id": "69816335",
   "metadata": {},
   "outputs": [],
   "source": [
    "loss_fn(y_train[:1], predictions).numpy()"
   ]
  },
  {
   "cell_type": "markdown",
   "id": "790a5e63",
   "metadata": {},
   "source": [
    "Before you start training, configure and compile the model using Keras `Model.compile`. Set the optimizer class to `adam`, set the `loss` to the `loss_fn` function you defined earlier, and specify a `metric` to be evaluated for the `model` by setting the `etrics` parameter to `accuracy`."
   ]
  },
  {
   "cell_type": "code",
   "execution_count": null,
   "id": "0a461579",
   "metadata": {},
   "outputs": [],
   "source": [
    "model.compile(optimizer='adam',\n",
    "              loss=loss_fn,\n",
    "              metrics=['accuracy'])"
   ]
  },
  {
   "cell_type": "markdown",
   "id": "80a8efb1",
   "metadata": {},
   "source": [
    "#### Train and evaluate your model\n",
    "Use the `Model.fit` method to adjust your `model` parameters and minimize the `loss`:"
   ]
  },
  {
   "cell_type": "code",
   "execution_count": null,
   "id": "9252d41f",
   "metadata": {},
   "outputs": [],
   "source": [
    "model.fit(x_train, y_train, epochs=5)"
   ]
  },
  {
   "cell_type": "markdown",
   "id": "7073db9e",
   "metadata": {},
   "source": [
    "The `Model.evaluate` method checks the model's performance, usually on a validation set or test set."
   ]
  },
  {
   "cell_type": "code",
   "execution_count": null,
   "id": "fa3ebb34",
   "metadata": {},
   "outputs": [],
   "source": [
    "model.evaluate(x_test,  y_test, verbose=2)"
   ]
  },
  {
   "cell_type": "markdown",
   "id": "8f5828d7",
   "metadata": {},
   "source": [
    "The image classifier is now trained to ~98% accuracy on this dataset. "
   ]
  },
  {
   "cell_type": "code",
   "execution_count": null,
   "id": "9d56981e-2946-4a23-aa80-47d66fe22138",
   "metadata": {},
   "outputs": [],
   "source": [
    "np.random.seed(42)\n",
    "random_indices = np.random.choice(x_test.shape[0], size=4, replace=False)\n",
    "sample_images = x_test[random_indices]\n",
    "sample_labels = y_test[random_indices]\n",
    "print(random_indices)\n",
    "print(sample_labels)"
   ]
  },
  {
   "cell_type": "code",
   "execution_count": null,
   "id": "7576d2e5",
   "metadata": {},
   "outputs": [],
   "source": [
    "sample_predictions = model.predict(sample_images)\n",
    "predicted_digits = np.argmax(sample_predictions, axis=1)"
   ]
  },
  {
   "cell_type": "code",
   "execution_count": null,
   "id": "a10c050e",
   "metadata": {},
   "outputs": [],
   "source": [
    "for index in range(4):\n",
    "    print(sample_labels[index])\n",
    "    plt.figure()\n",
    "    plt.imshow(sample_images[index])\n",
    "    plt.title(f\"True Label: {sample_labels[index]}\\nPredicted: {predicted_digits[index]}\")\n",
    "    plt.axis('off')\n",
    "    plt.colorbar()\n",
    "    plt.grid(False)\n",
    "    plt.show()"
   ]
  },
  {
   "cell_type": "markdown",
   "id": "7d557c2c",
   "metadata": {},
   "source": [
    "## Experiment 2"
   ]
  },
  {
   "cell_type": "markdown",
   "id": "f73032bb",
   "metadata": {},
   "source": [
    "### Repeat Experiment with 10,000 samples from the Training Set"
   ]
  },
  {
   "cell_type": "code",
   "execution_count": null,
   "id": "6b417d24",
   "metadata": {},
   "outputs": [],
   "source": [
    "x_train_exp2 = x_train[:10000]\n",
    "y_train_exp2 = y_train[:10000]"
   ]
  },
  {
   "cell_type": "code",
   "execution_count": null,
   "id": "9c7a2951",
   "metadata": {},
   "outputs": [],
   "source": [
    "print(x_train_exp2.shape, y_train_exp2.shape)"
   ]
  },
  {
   "cell_type": "code",
   "execution_count": null,
   "id": "cb2d7189",
   "metadata": {},
   "outputs": [],
   "source": [
    "y_train_exp2"
   ]
  },
  {
   "cell_type": "markdown",
   "id": "49561820",
   "metadata": {},
   "source": [
    "#### Inspect an image"
   ]
  },
  {
   "cell_type": "code",
   "execution_count": null,
   "id": "d8c7d6c4",
   "metadata": {},
   "outputs": [],
   "source": [
    "index = 107\n",
    "print(y_train_exp2[index])\n",
    "plt.figure()\n",
    "plt.imshow(x_train_exp2[index])\n",
    "plt.colorbar()\n",
    "plt.grid(False)\n",
    "plt.show()"
   ]
  },
  {
   "cell_type": "markdown",
   "id": "fdcdf5e3",
   "metadata": {},
   "source": [
    "#### Build a machine learning model"
   ]
  },
  {
   "cell_type": "code",
   "execution_count": null,
   "id": "28c77579",
   "metadata": {},
   "outputs": [],
   "source": [
    "model_exp2 = tf.keras.models.Sequential([\n",
    "    tf.keras.layers.Input(shape=(28, 28)),\n",
    "    tf.keras.layers.Flatten(),\n",
    "    tf.keras.layers.Dense(128, activation='relu'),\n",
    "    tf.keras.layers.Dropout(0.2),\n",
    "    tf.keras.layers.Dense(10)\n",
    "])"
   ]
  },
  {
   "cell_type": "code",
   "execution_count": null,
   "id": "86a4ce0c",
   "metadata": {},
   "outputs": [],
   "source": [
    "predictions_exp2 = model_exp2(x_train_exp2[:1]).numpy()\n",
    "predictions_exp2"
   ]
  },
  {
   "cell_type": "code",
   "execution_count": null,
   "id": "ec054458",
   "metadata": {},
   "outputs": [],
   "source": [
    "tf.nn.softmax(predictions_exp2).numpy()"
   ]
  },
  {
   "cell_type": "code",
   "execution_count": null,
   "id": "16134473",
   "metadata": {},
   "outputs": [],
   "source": [
    "loss_fn_exp2 = tf.keras.losses.SparseCategoricalCrossentropy(from_logits=True)"
   ]
  },
  {
   "cell_type": "code",
   "execution_count": null,
   "id": "cb2db88f",
   "metadata": {},
   "outputs": [],
   "source": [
    "loss_fn_exp2(y_train_exp2[:1], predictions_exp2).numpy()"
   ]
  },
  {
   "cell_type": "code",
   "execution_count": null,
   "id": "c1a929f2",
   "metadata": {},
   "outputs": [],
   "source": [
    "model_exp2.compile(optimizer='adam', loss=loss_fn_exp2, metrics=['accuracy'])"
   ]
  },
  {
   "cell_type": "markdown",
   "id": "a9213656",
   "metadata": {},
   "source": [
    "### Train and Evaluate the Model"
   ]
  },
  {
   "cell_type": "code",
   "execution_count": null,
   "id": "6651cd2f",
   "metadata": {},
   "outputs": [],
   "source": [
    "model_exp2.fit(x_train_exp2, y_train_exp2)"
   ]
  },
  {
   "cell_type": "code",
   "execution_count": null,
   "id": "8abc5f7e",
   "metadata": {},
   "outputs": [],
   "source": [
    "model_exp2.evaluate(x_test, y_test, verbose=2)"
   ]
  },
  {
   "cell_type": "code",
   "execution_count": null,
   "id": "9fb79bb7",
   "metadata": {},
   "outputs": [],
   "source": [
    "x_train_exp2_predictions = model_exp2.predict(x_train_exp2)\n",
    "exp2_predicted_digit = np.argmax(x_train_exp2_predictions, axis=1)"
   ]
  },
  {
   "cell_type": "markdown",
   "id": "182ef9bd",
   "metadata": {},
   "source": [
    "The image classifier is now trained to ~98% accuracy on the reduced dataset. "
   ]
  },
  {
   "cell_type": "markdown",
   "id": "34963fbf",
   "metadata": {},
   "source": [
    "### Print 200 Samples of the Predictions"
   ]
  },
  {
   "cell_type": "code",
   "execution_count": null,
   "id": "4e25cb38",
   "metadata": {},
   "outputs": [],
   "source": [
    "# To manage space we will print only a 200 predicted digits\n",
    "# The format will be (true label, predicted label)\n",
    "\n",
    "# Print labels and the predicted digits\n",
    "col_headers = [\"(y, p)\" for _ in range(10)]\n",
    "header_line = [\"------\" for _ in range(10)]\n",
    "print(\"y: true label, p: predicted digit\")\n",
    "print()\n",
    "\n",
    "# Print table headers\n",
    "print(\" | \" + \" | \".join(col_headers) + \" | \")\n",
    "print(\" | \" + \" | \".join(header_line) + \" | \")\n",
    "\n",
    "# Print pairs of the true labels and corresponding predicted outcomes in the same tabular format\n",
    "pairs = [f\"({y_train_exp2[idx]}, {exp2_predicted_digit[idx]})\" for idx in range(200)]\n",
    "for i in range(0, len(pairs), 10):\n",
    "    print(\" | \" + \" | \".join(pairs[i:i+10]) + \" | \")\n"
   ]
  },
  {
   "cell_type": "markdown",
   "id": "2e6e27db",
   "metadata": {},
   "source": [
    "#### Plot Samples of Predicted Images"
   ]
  },
  {
   "cell_type": "code",
   "execution_count": null,
   "id": "f3dbf2aa",
   "metadata": {},
   "outputs": [],
   "source": [
    "# Print images of 10 random predictions\n",
    "indexes_print = np.random.choice(x_train_exp2.shape[0], size=10, replace=False)\n",
    "for index in indexes_print:\n",
    "    plt.figure()\n",
    "    plt.imshow(x_train_exp2[index])\n",
    "    plt.title(f\"True Label: {y_train_exp2[index]}\\nPredicted: {exp2_predicted_digit[index]}\")\n",
    "    plt.axis(\"off\")\n",
    "    plt.colorbar()\n",
    "    plt.grid(False)\n",
    "    plt.show()"
   ]
  }
 ],
 "metadata": {
  "kernelspec": {
   "display_name": "csie_89",
   "language": "python",
   "name": "python3"
  },
  "language_info": {
   "codemirror_mode": {
    "name": "ipython",
    "version": 3
   },
   "file_extension": ".py",
   "mimetype": "text/x-python",
   "name": "python",
   "nbconvert_exporter": "python",
   "pygments_lexer": "ipython3",
   "version": "3.13.4"
  }
 },
 "nbformat": 4,
 "nbformat_minor": 5
}
