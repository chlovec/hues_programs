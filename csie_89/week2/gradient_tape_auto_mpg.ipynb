{
 "cells": [
  {
   "cell_type": "markdown",
   "metadata": {
    "colab_type": "text",
    "id": "h-oE2fBPAoKz"
   },
   "source": [
    "# Implementation of GradientTape on auto mpg data\n",
    "I thought it would be a good experiment to see if I can build a model implementing tf GradientTape on the auto mpg data set from assignment 1.\n",
    "I was able to create a model that can estimate appproximate MPG based on \n",
    "weight and displacement( cylinder). I started with creating two separate models for MPG vs weight and MPG vs displacement to explore the dependencies. When I got those models working, I combined them together. I used the auto-mpg.data with header or column name. "
   ]
  },
  {
   "cell_type": "markdown",
   "metadata": {
    "colab_type": "text",
    "id": "qJEB8qsBLHni"
   },
   "source": [
    "# MPG vs Weight and Displacement model"
   ]
  },
  {
   "cell_type": "code",
   "execution_count": 3,
   "metadata": {
    "colab": {
     "base_uri": "https://localhost:8080/",
     "height": 450
    },
    "colab_type": "code",
    "id": "pXKD2vN_QC2o",
    "outputId": "5326f4cf-06bf-47e9-bf20-f3a5c73cb5e9"
   },
   "outputs": [
    {
     "name": "stderr",
     "output_type": "stream",
     "text": [
      "C:\\Users\\zoran\\AppData\\Local\\Temp\\ipykernel_8788\\2722211775.py:5: FutureWarning: The 'delim_whitespace' keyword in pd.read_csv is deprecated and will be removed in a future version. Use ``sep='\\s+'`` instead\n",
      "  dfauto = pd.read_csv('auto-mpg.csv', delim_whitespace=True, header=0)\n"
     ]
    },
    {
     "ename": "ParserError",
     "evalue": "Error tokenizing data. C error: Expected 3 fields in line 15, saw 4\n",
     "output_type": "error",
     "traceback": [
      "\u001b[31m---------------------------------------------------------------------------\u001b[39m",
      "\u001b[31mParserError\u001b[39m                               Traceback (most recent call last)",
      "\u001b[36mCell\u001b[39m\u001b[36m \u001b[39m\u001b[32mIn[3]\u001b[39m\u001b[32m, line 5\u001b[39m\n\u001b[32m      2\u001b[39m \u001b[38;5;28;01mimport\u001b[39;00m\u001b[38;5;250m \u001b[39m\u001b[34;01mmatplotlib\u001b[39;00m\u001b[34;01m.\u001b[39;00m\u001b[34;01mpyplot\u001b[39;00m\u001b[38;5;250m \u001b[39m\u001b[38;5;28;01mas\u001b[39;00m\u001b[38;5;250m \u001b[39m\u001b[34;01mplt\u001b[39;00m\n\u001b[32m      3\u001b[39m \u001b[38;5;28;01mimport\u001b[39;00m\u001b[38;5;250m \u001b[39m\u001b[34;01mtensorflow\u001b[39;00m\u001b[38;5;250m \u001b[39m\u001b[38;5;28;01mas\u001b[39;00m\u001b[38;5;250m \u001b[39m\u001b[34;01mtf\u001b[39;00m \n\u001b[32m----> \u001b[39m\u001b[32m5\u001b[39m dfauto = \u001b[43mpd\u001b[49m\u001b[43m.\u001b[49m\u001b[43mread_csv\u001b[49m\u001b[43m(\u001b[49m\u001b[33;43m'\u001b[39;49m\u001b[33;43mauto-mpg.csv\u001b[39;49m\u001b[33;43m'\u001b[39;49m\u001b[43m,\u001b[49m\u001b[43m \u001b[49m\u001b[43mdelim_whitespace\u001b[49m\u001b[43m=\u001b[49m\u001b[38;5;28;43;01mTrue\u001b[39;49;00m\u001b[43m,\u001b[49m\u001b[43m \u001b[49m\u001b[43mheader\u001b[49m\u001b[43m=\u001b[49m\u001b[32;43m0\u001b[39;49m\u001b[43m)\u001b[49m\n\u001b[32m      7\u001b[39m dfauto.head\n\u001b[32m      8\u001b[39m \u001b[38;5;66;03m#dfauto.columns = ['MPG','Cylinders','Displacement','Horsepower','Weight','Acceleration','Model_Year','Origin','Model']\u001b[39;00m\n",
      "\u001b[36mFile \u001b[39m\u001b[32m~\\miniconda3\\envs\\tf-keras\\Lib\\site-packages\\pandas\\io\\parsers\\readers.py:1026\u001b[39m, in \u001b[36mread_csv\u001b[39m\u001b[34m(filepath_or_buffer, sep, delimiter, header, names, index_col, usecols, dtype, engine, converters, true_values, false_values, skipinitialspace, skiprows, skipfooter, nrows, na_values, keep_default_na, na_filter, verbose, skip_blank_lines, parse_dates, infer_datetime_format, keep_date_col, date_parser, date_format, dayfirst, cache_dates, iterator, chunksize, compression, thousands, decimal, lineterminator, quotechar, quoting, doublequote, escapechar, comment, encoding, encoding_errors, dialect, on_bad_lines, delim_whitespace, low_memory, memory_map, float_precision, storage_options, dtype_backend)\u001b[39m\n\u001b[32m   1013\u001b[39m kwds_defaults = _refine_defaults_read(\n\u001b[32m   1014\u001b[39m     dialect,\n\u001b[32m   1015\u001b[39m     delimiter,\n\u001b[32m   (...)\u001b[39m\u001b[32m   1022\u001b[39m     dtype_backend=dtype_backend,\n\u001b[32m   1023\u001b[39m )\n\u001b[32m   1024\u001b[39m kwds.update(kwds_defaults)\n\u001b[32m-> \u001b[39m\u001b[32m1026\u001b[39m \u001b[38;5;28;01mreturn\u001b[39;00m \u001b[43m_read\u001b[49m\u001b[43m(\u001b[49m\u001b[43mfilepath_or_buffer\u001b[49m\u001b[43m,\u001b[49m\u001b[43m \u001b[49m\u001b[43mkwds\u001b[49m\u001b[43m)\u001b[49m\n",
      "\u001b[36mFile \u001b[39m\u001b[32m~\\miniconda3\\envs\\tf-keras\\Lib\\site-packages\\pandas\\io\\parsers\\readers.py:626\u001b[39m, in \u001b[36m_read\u001b[39m\u001b[34m(filepath_or_buffer, kwds)\u001b[39m\n\u001b[32m    623\u001b[39m     \u001b[38;5;28;01mreturn\u001b[39;00m parser\n\u001b[32m    625\u001b[39m \u001b[38;5;28;01mwith\u001b[39;00m parser:\n\u001b[32m--> \u001b[39m\u001b[32m626\u001b[39m     \u001b[38;5;28;01mreturn\u001b[39;00m \u001b[43mparser\u001b[49m\u001b[43m.\u001b[49m\u001b[43mread\u001b[49m\u001b[43m(\u001b[49m\u001b[43mnrows\u001b[49m\u001b[43m)\u001b[49m\n",
      "\u001b[36mFile \u001b[39m\u001b[32m~\\miniconda3\\envs\\tf-keras\\Lib\\site-packages\\pandas\\io\\parsers\\readers.py:1923\u001b[39m, in \u001b[36mTextFileReader.read\u001b[39m\u001b[34m(self, nrows)\u001b[39m\n\u001b[32m   1916\u001b[39m nrows = validate_integer(\u001b[33m\"\u001b[39m\u001b[33mnrows\u001b[39m\u001b[33m\"\u001b[39m, nrows)\n\u001b[32m   1917\u001b[39m \u001b[38;5;28;01mtry\u001b[39;00m:\n\u001b[32m   1918\u001b[39m     \u001b[38;5;66;03m# error: \"ParserBase\" has no attribute \"read\"\u001b[39;00m\n\u001b[32m   1919\u001b[39m     (\n\u001b[32m   1920\u001b[39m         index,\n\u001b[32m   1921\u001b[39m         columns,\n\u001b[32m   1922\u001b[39m         col_dict,\n\u001b[32m-> \u001b[39m\u001b[32m1923\u001b[39m     ) = \u001b[38;5;28;43mself\u001b[39;49m\u001b[43m.\u001b[49m\u001b[43m_engine\u001b[49m\u001b[43m.\u001b[49m\u001b[43mread\u001b[49m\u001b[43m(\u001b[49m\u001b[43m  \u001b[49m\u001b[38;5;66;43;03m# type: ignore[attr-defined]\u001b[39;49;00m\n\u001b[32m   1924\u001b[39m \u001b[43m        \u001b[49m\u001b[43mnrows\u001b[49m\n\u001b[32m   1925\u001b[39m \u001b[43m    \u001b[49m\u001b[43m)\u001b[49m\n\u001b[32m   1926\u001b[39m \u001b[38;5;28;01mexcept\u001b[39;00m \u001b[38;5;167;01mException\u001b[39;00m:\n\u001b[32m   1927\u001b[39m     \u001b[38;5;28mself\u001b[39m.close()\n",
      "\u001b[36mFile \u001b[39m\u001b[32m~\\miniconda3\\envs\\tf-keras\\Lib\\site-packages\\pandas\\io\\parsers\\c_parser_wrapper.py:234\u001b[39m, in \u001b[36mCParserWrapper.read\u001b[39m\u001b[34m(self, nrows)\u001b[39m\n\u001b[32m    232\u001b[39m \u001b[38;5;28;01mtry\u001b[39;00m:\n\u001b[32m    233\u001b[39m     \u001b[38;5;28;01mif\u001b[39;00m \u001b[38;5;28mself\u001b[39m.low_memory:\n\u001b[32m--> \u001b[39m\u001b[32m234\u001b[39m         chunks = \u001b[38;5;28;43mself\u001b[39;49m\u001b[43m.\u001b[49m\u001b[43m_reader\u001b[49m\u001b[43m.\u001b[49m\u001b[43mread_low_memory\u001b[49m\u001b[43m(\u001b[49m\u001b[43mnrows\u001b[49m\u001b[43m)\u001b[49m\n\u001b[32m    235\u001b[39m         \u001b[38;5;66;03m# destructive to chunks\u001b[39;00m\n\u001b[32m    236\u001b[39m         data = _concatenate_chunks(chunks)\n",
      "\u001b[36mFile \u001b[39m\u001b[32mpandas/_libs/parsers.pyx:838\u001b[39m, in \u001b[36mpandas._libs.parsers.TextReader.read_low_memory\u001b[39m\u001b[34m()\u001b[39m\n",
      "\u001b[36mFile \u001b[39m\u001b[32mpandas/_libs/parsers.pyx:905\u001b[39m, in \u001b[36mpandas._libs.parsers.TextReader._read_rows\u001b[39m\u001b[34m()\u001b[39m\n",
      "\u001b[36mFile \u001b[39m\u001b[32mpandas/_libs/parsers.pyx:874\u001b[39m, in \u001b[36mpandas._libs.parsers.TextReader._tokenize_rows\u001b[39m\u001b[34m()\u001b[39m\n",
      "\u001b[36mFile \u001b[39m\u001b[32mpandas/_libs/parsers.pyx:891\u001b[39m, in \u001b[36mpandas._libs.parsers.TextReader._check_tokenize_status\u001b[39m\u001b[34m()\u001b[39m\n",
      "\u001b[36mFile \u001b[39m\u001b[32mpandas/_libs/parsers.pyx:2061\u001b[39m, in \u001b[36mpandas._libs.parsers.raise_parser_error\u001b[39m\u001b[34m()\u001b[39m\n",
      "\u001b[31mParserError\u001b[39m: Error tokenizing data. C error: Expected 3 fields in line 15, saw 4\n"
     ]
    }
   ],
   "source": [
    "import pandas as pd\n",
    "import matplotlib.pyplot as plt\n",
    "import tensorflow as tf \n",
    "\n",
    "dfauto = pd.read_csv('auto-mpg.csv', delim_whitespace=True, header=0)\n",
    "\n",
    "dfauto.head\n",
    "#dfauto.columns = ['MPG','Cylinders','Displacement','Horsepower','Weight','Acceleration','Model_Year','Origin','Model']\n",
    "dfauto.describe()\n",
    "\n",
    "# create train and test dataset. 350 randomly selected rows for train and the rest for test\n",
    "# transform feature Displacement and Weight into smaller single digit number \n",
    "\n",
    "dfauto['random'] = np.random.choice(range(398), 398, replace=False)\n",
    "traindf = dfauto.loc[ dfauto['random'] < 350]\n",
    "testdf = dfauto.loc[ dfauto['random'] >= 350]\n",
    "\n",
    "\n",
    "dfauto1 = traindf['Displacement'].div(100)\n",
    "dfauto2 = traindf['Weight'].apply(lambda x: x/1000)\n",
    "dfauto3 = pd.concat([dfauto1, dfauto2], axis=1)\n",
    "\n",
    "inputs_train = tf.constant( dfauto3, shape=(350,2), dtype=tf.float64)\n",
    "targets_train = tf.constant( traindf[['MPG']], shape=(350,1), dtype=tf.float64)\n",
    "\n",
    "dfauto4 = testdf['Displacement'].div(100)\n",
    "dfauto5 = testdf['Weight'].apply(lambda x: x/1000)\n",
    "dfauto6 = pd.concat([dfauto4, dfauto5], axis=1)\n",
    "\n",
    "inputs_test = tf.constant( dfauto6, shape=(48,2), dtype=tf.float64)\n",
    "targets_test = tf.constant( testdf[['MPG']], shape=(48,1), dtype=tf.float64)\n",
    "\n",
    "\n",
    "w = tf.Variable(initial_value=tf.random.uniform(shape = (2,1), dtype=tf.float64 ))\n",
    "b = tf.Variable(initial_value=tf.zeros(shape=(1), dtype=tf.float64 ))\n",
    "\n",
    "def model(inputs) :\n",
    "  return tf.matmul(inputs, w) + b\n",
    "\n",
    "def mean_sq_loss(predictions, targets) :\n",
    "  sq_loss = tf.square(  targets - predictions )\n",
    "  return tf.reduce_mean ( sq_loss )\n",
    "\n",
    "learn_rate= 0.05\n",
    "\n",
    "def training (inputs, targets) :\n",
    " with tf.GradientTape( persistent=True) as g:\n",
    "    g.watch(w)\n",
    "    g.watch(b)\n",
    "    predictions = model( inputs)\n",
    "    #print(predictions)\n",
    "    loss = mean_sq_loss( predictions, targets )\n",
    " dl_dw = g.gradient(loss, w)\n",
    " dl_db = g.gradient(loss, b)\n",
    "\n",
    " w.assign_sub (dl_dw * learn_rate )\n",
    " b.assign_sub (dl_db * learn_rate )\n",
    " g.stop_recording\n",
    "  \n",
    " return loss\n",
    "\n",
    "loss_plot = []\n",
    "\n",
    "iter_plot = []\n",
    "\n",
    "print ( \"Starting w1, w2 and b \", w.numpy(), b.numpy())\n",
    "\n",
    "for step in range(1500) :         \n",
    " loss = training(inputs_train, targets_train)\n",
    " #print(\"Loss training\", loss.numpy())\n",
    " loss_plot.append(loss)\n",
    " iter_plot.append(step)\n",
    " \n",
    "print(\"Loss at the end of training \", loss.numpy())\n",
    "print ( \"At the end of training w1, w2 and b \", w.numpy(), b.numpy())\n",
    "\n",
    "\n",
    "fig2 = plt.figure(2)\n",
    "plt.plot(iter_plot, loss_plot)\n",
    "fig2.suptitle('Loss curve', fontsize=20)\n",
    "fig2.show\n",
    "\n",
    "\n",
    "# calculate loss for the test data set \n",
    "\n",
    "# loss_test = training(inputs_test, targets_test)\n",
    "# print(\"\\nLoss for test data set \", loss_test.numpy())\n",
    "\n",
    "\n",
    "# make a prediction \n",
    "# sample a row from the test data set \n",
    "\n",
    "print (\":::::::::::::::::::::::::::::::::::::::::::::::::::::\")\n",
    "print (\"\\nLets see what the model predicts for 3 samples from test data set\\n\")\n",
    "\n",
    "for i in range(3) :\n",
    "  pdf = testdf.sample()\n",
    "\n",
    "  print (\":::::::::::::::::::::::::::::::::::::::::::::::::::::\")\n",
    "  print (\"\\nPrediction for sample \", i+1)\n",
    "  print ( pdf)\n",
    "\n",
    "  pdf1 = pdf['Displacement'].div(100)\n",
    "  pdf2 = pdf['Weight'].apply(lambda x: x/1000)\n",
    "  pdf3 = pd.concat([pdf1, pdf2], axis=1)\n",
    "\n",
    "  inputs_pre = tf.constant( pdf3, shape=(1,2), dtype=tf.float64)\n",
    "  pre_mpg = model(inputs_pre)\n",
    "  print (\"\\n::::: PREDICTED MPG \", pre_mpg.numpy() )\n",
    "  print (\":::::::::::::::::::::::::::::::::::::::::::::::::::::\")\n"
   ]
  },
  {
   "cell_type": "markdown",
   "metadata": {
    "colab_type": "text",
    "id": "HckV5LoBKRgY"
   },
   "source": [
    "# MPG vs Weight model "
   ]
  },
  {
   "cell_type": "code",
   "execution_count": 2,
   "metadata": {
    "colab": {
     "base_uri": "https://localhost:8080/",
     "height": 450
    },
    "colab_type": "code",
    "id": "nIU5RsBxUm_z",
    "outputId": "bcdd787a-e69d-48eb-d6f7-ab98e44df61d"
   },
   "outputs": [
    {
     "name": "stderr",
     "output_type": "stream",
     "text": [
      "C:\\Users\\zoran\\AppData\\Local\\Temp\\ipykernel_8788\\3598045163.py:5: FutureWarning: The 'delim_whitespace' keyword in pd.read_csv is deprecated and will be removed in a future version. Use ``sep='\\s+'`` instead\n",
      "  dfauto = pd.read_csv('C:/Users/xyz/Desktop/auto-mpg.data', delim_whitespace=True, header=0)\n"
     ]
    },
    {
     "ename": "FileNotFoundError",
     "evalue": "[Errno 2] No such file or directory: 'C:/Users/xyz/Desktop/auto-mpg.data'",
     "output_type": "error",
     "traceback": [
      "\u001b[31m---------------------------------------------------------------------------\u001b[39m",
      "\u001b[31mFileNotFoundError\u001b[39m                         Traceback (most recent call last)",
      "\u001b[36mCell\u001b[39m\u001b[36m \u001b[39m\u001b[32mIn[2]\u001b[39m\u001b[32m, line 5\u001b[39m\n\u001b[32m      2\u001b[39m \u001b[38;5;28;01mimport\u001b[39;00m\u001b[38;5;250m \u001b[39m\u001b[34;01mmatplotlib\u001b[39;00m\u001b[34;01m.\u001b[39;00m\u001b[34;01mpyplot\u001b[39;00m\u001b[38;5;250m \u001b[39m\u001b[38;5;28;01mas\u001b[39;00m\u001b[38;5;250m \u001b[39m\u001b[34;01mplt\u001b[39;00m\n\u001b[32m      3\u001b[39m \u001b[38;5;28;01mimport\u001b[39;00m\u001b[38;5;250m \u001b[39m\u001b[34;01mtensorflow\u001b[39;00m\u001b[38;5;250m \u001b[39m\u001b[38;5;28;01mas\u001b[39;00m\u001b[38;5;250m \u001b[39m\u001b[34;01mtf\u001b[39;00m \n\u001b[32m----> \u001b[39m\u001b[32m5\u001b[39m dfauto = \u001b[43mpd\u001b[49m\u001b[43m.\u001b[49m\u001b[43mread_csv\u001b[49m\u001b[43m(\u001b[49m\u001b[33;43m'\u001b[39;49m\u001b[33;43mC:/Users/xyz/Desktop/auto-mpg.data\u001b[39;49m\u001b[33;43m'\u001b[39;49m\u001b[43m,\u001b[49m\u001b[43m \u001b[49m\u001b[43mdelim_whitespace\u001b[49m\u001b[43m=\u001b[49m\u001b[38;5;28;43;01mTrue\u001b[39;49;00m\u001b[43m,\u001b[49m\u001b[43m \u001b[49m\u001b[43mheader\u001b[49m\u001b[43m=\u001b[49m\u001b[32;43m0\u001b[39;49m\u001b[43m)\u001b[49m\n\u001b[32m      7\u001b[39m dfauto.head\n\u001b[32m      8\u001b[39m \u001b[38;5;66;03m#dfauto.columns = ['MPG','Cylinders','Displacement','Horsepower','Weight','Acceleration','Model_Year','Origin','Model']\u001b[39;00m\n",
      "\u001b[36mFile \u001b[39m\u001b[32m~\\miniconda3\\envs\\tf-keras\\Lib\\site-packages\\pandas\\io\\parsers\\readers.py:1026\u001b[39m, in \u001b[36mread_csv\u001b[39m\u001b[34m(filepath_or_buffer, sep, delimiter, header, names, index_col, usecols, dtype, engine, converters, true_values, false_values, skipinitialspace, skiprows, skipfooter, nrows, na_values, keep_default_na, na_filter, verbose, skip_blank_lines, parse_dates, infer_datetime_format, keep_date_col, date_parser, date_format, dayfirst, cache_dates, iterator, chunksize, compression, thousands, decimal, lineterminator, quotechar, quoting, doublequote, escapechar, comment, encoding, encoding_errors, dialect, on_bad_lines, delim_whitespace, low_memory, memory_map, float_precision, storage_options, dtype_backend)\u001b[39m\n\u001b[32m   1013\u001b[39m kwds_defaults = _refine_defaults_read(\n\u001b[32m   1014\u001b[39m     dialect,\n\u001b[32m   1015\u001b[39m     delimiter,\n\u001b[32m   (...)\u001b[39m\u001b[32m   1022\u001b[39m     dtype_backend=dtype_backend,\n\u001b[32m   1023\u001b[39m )\n\u001b[32m   1024\u001b[39m kwds.update(kwds_defaults)\n\u001b[32m-> \u001b[39m\u001b[32m1026\u001b[39m \u001b[38;5;28;01mreturn\u001b[39;00m \u001b[43m_read\u001b[49m\u001b[43m(\u001b[49m\u001b[43mfilepath_or_buffer\u001b[49m\u001b[43m,\u001b[49m\u001b[43m \u001b[49m\u001b[43mkwds\u001b[49m\u001b[43m)\u001b[49m\n",
      "\u001b[36mFile \u001b[39m\u001b[32m~\\miniconda3\\envs\\tf-keras\\Lib\\site-packages\\pandas\\io\\parsers\\readers.py:620\u001b[39m, in \u001b[36m_read\u001b[39m\u001b[34m(filepath_or_buffer, kwds)\u001b[39m\n\u001b[32m    617\u001b[39m _validate_names(kwds.get(\u001b[33m\"\u001b[39m\u001b[33mnames\u001b[39m\u001b[33m\"\u001b[39m, \u001b[38;5;28;01mNone\u001b[39;00m))\n\u001b[32m    619\u001b[39m \u001b[38;5;66;03m# Create the parser.\u001b[39;00m\n\u001b[32m--> \u001b[39m\u001b[32m620\u001b[39m parser = \u001b[43mTextFileReader\u001b[49m\u001b[43m(\u001b[49m\u001b[43mfilepath_or_buffer\u001b[49m\u001b[43m,\u001b[49m\u001b[43m \u001b[49m\u001b[43m*\u001b[49m\u001b[43m*\u001b[49m\u001b[43mkwds\u001b[49m\u001b[43m)\u001b[49m\n\u001b[32m    622\u001b[39m \u001b[38;5;28;01mif\u001b[39;00m chunksize \u001b[38;5;129;01mor\u001b[39;00m iterator:\n\u001b[32m    623\u001b[39m     \u001b[38;5;28;01mreturn\u001b[39;00m parser\n",
      "\u001b[36mFile \u001b[39m\u001b[32m~\\miniconda3\\envs\\tf-keras\\Lib\\site-packages\\pandas\\io\\parsers\\readers.py:1620\u001b[39m, in \u001b[36mTextFileReader.__init__\u001b[39m\u001b[34m(self, f, engine, **kwds)\u001b[39m\n\u001b[32m   1617\u001b[39m     \u001b[38;5;28mself\u001b[39m.options[\u001b[33m\"\u001b[39m\u001b[33mhas_index_names\u001b[39m\u001b[33m\"\u001b[39m] = kwds[\u001b[33m\"\u001b[39m\u001b[33mhas_index_names\u001b[39m\u001b[33m\"\u001b[39m]\n\u001b[32m   1619\u001b[39m \u001b[38;5;28mself\u001b[39m.handles: IOHandles | \u001b[38;5;28;01mNone\u001b[39;00m = \u001b[38;5;28;01mNone\u001b[39;00m\n\u001b[32m-> \u001b[39m\u001b[32m1620\u001b[39m \u001b[38;5;28mself\u001b[39m._engine = \u001b[38;5;28;43mself\u001b[39;49m\u001b[43m.\u001b[49m\u001b[43m_make_engine\u001b[49m\u001b[43m(\u001b[49m\u001b[43mf\u001b[49m\u001b[43m,\u001b[49m\u001b[43m \u001b[49m\u001b[38;5;28;43mself\u001b[39;49m\u001b[43m.\u001b[49m\u001b[43mengine\u001b[49m\u001b[43m)\u001b[49m\n",
      "\u001b[36mFile \u001b[39m\u001b[32m~\\miniconda3\\envs\\tf-keras\\Lib\\site-packages\\pandas\\io\\parsers\\readers.py:1880\u001b[39m, in \u001b[36mTextFileReader._make_engine\u001b[39m\u001b[34m(self, f, engine)\u001b[39m\n\u001b[32m   1878\u001b[39m     \u001b[38;5;28;01mif\u001b[39;00m \u001b[33m\"\u001b[39m\u001b[33mb\u001b[39m\u001b[33m\"\u001b[39m \u001b[38;5;129;01mnot\u001b[39;00m \u001b[38;5;129;01min\u001b[39;00m mode:\n\u001b[32m   1879\u001b[39m         mode += \u001b[33m\"\u001b[39m\u001b[33mb\u001b[39m\u001b[33m\"\u001b[39m\n\u001b[32m-> \u001b[39m\u001b[32m1880\u001b[39m \u001b[38;5;28mself\u001b[39m.handles = \u001b[43mget_handle\u001b[49m\u001b[43m(\u001b[49m\n\u001b[32m   1881\u001b[39m \u001b[43m    \u001b[49m\u001b[43mf\u001b[49m\u001b[43m,\u001b[49m\n\u001b[32m   1882\u001b[39m \u001b[43m    \u001b[49m\u001b[43mmode\u001b[49m\u001b[43m,\u001b[49m\n\u001b[32m   1883\u001b[39m \u001b[43m    \u001b[49m\u001b[43mencoding\u001b[49m\u001b[43m=\u001b[49m\u001b[38;5;28;43mself\u001b[39;49m\u001b[43m.\u001b[49m\u001b[43moptions\u001b[49m\u001b[43m.\u001b[49m\u001b[43mget\u001b[49m\u001b[43m(\u001b[49m\u001b[33;43m\"\u001b[39;49m\u001b[33;43mencoding\u001b[39;49m\u001b[33;43m\"\u001b[39;49m\u001b[43m,\u001b[49m\u001b[43m \u001b[49m\u001b[38;5;28;43;01mNone\u001b[39;49;00m\u001b[43m)\u001b[49m\u001b[43m,\u001b[49m\n\u001b[32m   1884\u001b[39m \u001b[43m    \u001b[49m\u001b[43mcompression\u001b[49m\u001b[43m=\u001b[49m\u001b[38;5;28;43mself\u001b[39;49m\u001b[43m.\u001b[49m\u001b[43moptions\u001b[49m\u001b[43m.\u001b[49m\u001b[43mget\u001b[49m\u001b[43m(\u001b[49m\u001b[33;43m\"\u001b[39;49m\u001b[33;43mcompression\u001b[39;49m\u001b[33;43m\"\u001b[39;49m\u001b[43m,\u001b[49m\u001b[43m \u001b[49m\u001b[38;5;28;43;01mNone\u001b[39;49;00m\u001b[43m)\u001b[49m\u001b[43m,\u001b[49m\n\u001b[32m   1885\u001b[39m \u001b[43m    \u001b[49m\u001b[43mmemory_map\u001b[49m\u001b[43m=\u001b[49m\u001b[38;5;28;43mself\u001b[39;49m\u001b[43m.\u001b[49m\u001b[43moptions\u001b[49m\u001b[43m.\u001b[49m\u001b[43mget\u001b[49m\u001b[43m(\u001b[49m\u001b[33;43m\"\u001b[39;49m\u001b[33;43mmemory_map\u001b[39;49m\u001b[33;43m\"\u001b[39;49m\u001b[43m,\u001b[49m\u001b[43m \u001b[49m\u001b[38;5;28;43;01mFalse\u001b[39;49;00m\u001b[43m)\u001b[49m\u001b[43m,\u001b[49m\n\u001b[32m   1886\u001b[39m \u001b[43m    \u001b[49m\u001b[43mis_text\u001b[49m\u001b[43m=\u001b[49m\u001b[43mis_text\u001b[49m\u001b[43m,\u001b[49m\n\u001b[32m   1887\u001b[39m \u001b[43m    \u001b[49m\u001b[43merrors\u001b[49m\u001b[43m=\u001b[49m\u001b[38;5;28;43mself\u001b[39;49m\u001b[43m.\u001b[49m\u001b[43moptions\u001b[49m\u001b[43m.\u001b[49m\u001b[43mget\u001b[49m\u001b[43m(\u001b[49m\u001b[33;43m\"\u001b[39;49m\u001b[33;43mencoding_errors\u001b[39;49m\u001b[33;43m\"\u001b[39;49m\u001b[43m,\u001b[49m\u001b[43m \u001b[49m\u001b[33;43m\"\u001b[39;49m\u001b[33;43mstrict\u001b[39;49m\u001b[33;43m\"\u001b[39;49m\u001b[43m)\u001b[49m\u001b[43m,\u001b[49m\n\u001b[32m   1888\u001b[39m \u001b[43m    \u001b[49m\u001b[43mstorage_options\u001b[49m\u001b[43m=\u001b[49m\u001b[38;5;28;43mself\u001b[39;49m\u001b[43m.\u001b[49m\u001b[43moptions\u001b[49m\u001b[43m.\u001b[49m\u001b[43mget\u001b[49m\u001b[43m(\u001b[49m\u001b[33;43m\"\u001b[39;49m\u001b[33;43mstorage_options\u001b[39;49m\u001b[33;43m\"\u001b[39;49m\u001b[43m,\u001b[49m\u001b[43m \u001b[49m\u001b[38;5;28;43;01mNone\u001b[39;49;00m\u001b[43m)\u001b[49m\u001b[43m,\u001b[49m\n\u001b[32m   1889\u001b[39m \u001b[43m\u001b[49m\u001b[43m)\u001b[49m\n\u001b[32m   1890\u001b[39m \u001b[38;5;28;01massert\u001b[39;00m \u001b[38;5;28mself\u001b[39m.handles \u001b[38;5;129;01mis\u001b[39;00m \u001b[38;5;129;01mnot\u001b[39;00m \u001b[38;5;28;01mNone\u001b[39;00m\n\u001b[32m   1891\u001b[39m f = \u001b[38;5;28mself\u001b[39m.handles.handle\n",
      "\u001b[36mFile \u001b[39m\u001b[32m~\\miniconda3\\envs\\tf-keras\\Lib\\site-packages\\pandas\\io\\common.py:873\u001b[39m, in \u001b[36mget_handle\u001b[39m\u001b[34m(path_or_buf, mode, encoding, compression, memory_map, is_text, errors, storage_options)\u001b[39m\n\u001b[32m    868\u001b[39m \u001b[38;5;28;01melif\u001b[39;00m \u001b[38;5;28misinstance\u001b[39m(handle, \u001b[38;5;28mstr\u001b[39m):\n\u001b[32m    869\u001b[39m     \u001b[38;5;66;03m# Check whether the filename is to be opened in binary mode.\u001b[39;00m\n\u001b[32m    870\u001b[39m     \u001b[38;5;66;03m# Binary mode does not support 'encoding' and 'newline'.\u001b[39;00m\n\u001b[32m    871\u001b[39m     \u001b[38;5;28;01mif\u001b[39;00m ioargs.encoding \u001b[38;5;129;01mand\u001b[39;00m \u001b[33m\"\u001b[39m\u001b[33mb\u001b[39m\u001b[33m\"\u001b[39m \u001b[38;5;129;01mnot\u001b[39;00m \u001b[38;5;129;01min\u001b[39;00m ioargs.mode:\n\u001b[32m    872\u001b[39m         \u001b[38;5;66;03m# Encoding\u001b[39;00m\n\u001b[32m--> \u001b[39m\u001b[32m873\u001b[39m         handle = \u001b[38;5;28;43mopen\u001b[39;49m\u001b[43m(\u001b[49m\n\u001b[32m    874\u001b[39m \u001b[43m            \u001b[49m\u001b[43mhandle\u001b[49m\u001b[43m,\u001b[49m\n\u001b[32m    875\u001b[39m \u001b[43m            \u001b[49m\u001b[43mioargs\u001b[49m\u001b[43m.\u001b[49m\u001b[43mmode\u001b[49m\u001b[43m,\u001b[49m\n\u001b[32m    876\u001b[39m \u001b[43m            \u001b[49m\u001b[43mencoding\u001b[49m\u001b[43m=\u001b[49m\u001b[43mioargs\u001b[49m\u001b[43m.\u001b[49m\u001b[43mencoding\u001b[49m\u001b[43m,\u001b[49m\n\u001b[32m    877\u001b[39m \u001b[43m            \u001b[49m\u001b[43merrors\u001b[49m\u001b[43m=\u001b[49m\u001b[43merrors\u001b[49m\u001b[43m,\u001b[49m\n\u001b[32m    878\u001b[39m \u001b[43m            \u001b[49m\u001b[43mnewline\u001b[49m\u001b[43m=\u001b[49m\u001b[33;43m\"\u001b[39;49m\u001b[33;43m\"\u001b[39;49m\u001b[43m,\u001b[49m\n\u001b[32m    879\u001b[39m \u001b[43m        \u001b[49m\u001b[43m)\u001b[49m\n\u001b[32m    880\u001b[39m     \u001b[38;5;28;01melse\u001b[39;00m:\n\u001b[32m    881\u001b[39m         \u001b[38;5;66;03m# Binary mode\u001b[39;00m\n\u001b[32m    882\u001b[39m         handle = \u001b[38;5;28mopen\u001b[39m(handle, ioargs.mode)\n",
      "\u001b[31mFileNotFoundError\u001b[39m: [Errno 2] No such file or directory: 'C:/Users/xyz/Desktop/auto-mpg.data'"
     ]
    }
   ],
   "source": [
    "import pandas as pd\n",
    "import matplotlib.pyplot as plt\n",
    "import tensorflow as tf \n",
    "\n",
    "dfauto = pd.read_csv('C:/Users/xyz/Desktop/auto-mpg.data', delim_whitespace=True, header=0)\n",
    "\n",
    "dfauto.head\n",
    "#dfauto.columns = ['MPG','Cylinders','Displacement','Horsepower','Weight','Acceleration','Model_Year','Origin','Model']\n",
    "\n",
    "dfauto1 = dfauto[['MPG','Weight']]\n",
    "\n",
    "dfauto1.head\n",
    "\n",
    "dfauto1.describe()\n",
    "\n",
    "#plt.scatter( dfauto1['Weight'], dfauto1['MPG'])\n",
    "\n",
    "\n",
    "inputs0 = dfauto1['Weight'].apply(lambda x: x/1000)\n",
    "targets0 = dfauto1['MPG']\n",
    "\n",
    "inputs = tf.constant( inputs0.values.reshape(398,1), shape=(398,1), dtype=tf.float64)\n",
    "targets = tf.constant( targets0.values.reshape(398,1), shape=(398,1), dtype=tf.float64)\n",
    "\n",
    "\n",
    "w = tf.Variable(initial_value=tf.random.uniform(shape = (1,1), dtype=tf.float64 ))\n",
    "b = tf.Variable(initial_value=tf.zeros(shape=(1), dtype=tf.float64 ))\n",
    "\n",
    "def model(inputs) :\n",
    "  return tf.matmul(inputs, w) + b\n",
    "\n",
    "def mean_sq_loss(predictions, targets) :\n",
    "  sq_loss = tf.square(  targets - predictions )\n",
    "  return tf.reduce_mean ( sq_loss )\n",
    "\n",
    "learn_rate= 0.05\n",
    "\n",
    "def training (inputs, targets) :\n",
    " with tf.GradientTape( persistent=True) as g:\n",
    "    g.watch(w)\n",
    "    g.watch(b)\n",
    "    predictions = model( inputs)\n",
    "    #print(predictions)\n",
    "    loss = mean_sq_loss( predictions, targets )\n",
    " dl_dw = g.gradient(loss, w)\n",
    " dl_db = g.gradient(loss, b)\n",
    "\n",
    " w.assign_sub (dl_dw * learn_rate )\n",
    " b.assign_sub (dl_db * learn_rate )\n",
    " g.stop_recording\n",
    "  \n",
    " return loss\n",
    "\n",
    "loss_plot = []\n",
    "\n",
    "iter_plot = []\n",
    "\n",
    "print ( \"starting w b\", w.numpy(), b.numpy())\n",
    "\n",
    "for step in range(500) :         \n",
    " loss = training(inputs, targets)\n",
    " #print(\"Loss \", loss.numpy())\n",
    " loss_plot.append(loss)\n",
    " iter_plot.append(step)\n",
    " #print ( w.numpy(), b.numpy())\n",
    " \n",
    "print ( \"At the end of training w and b \", w.numpy(), b.numpy())\n",
    "\n",
    "fig1 = plt.figure(1)\n",
    "pre_y = model(inputs)\n",
    "plt.plot( dfauto1['Weight'], pre_y.numpy()[:,0], '-r')\n",
    "plt.scatter( dfauto1['Weight'], dfauto1['MPG'])\n",
    "fig1.suptitle('MPG vs Weight', fontsize=20)\n",
    "fig1.show\n",
    "\n",
    "fig2 = plt.figure(2)\n",
    "plt.plot(iter_plot, loss_plot)\n",
    "fig2.suptitle('Loss curve', fontsize=20)\n",
    "fig2.show\n",
    "\n"
   ]
  },
  {
   "cell_type": "markdown",
   "metadata": {
    "colab_type": "text",
    "id": "6Za9FzZeKt_-"
   },
   "source": [
    "# MPG vs Displacement model "
   ]
  },
  {
   "cell_type": "code",
   "execution_count": null,
   "metadata": {
    "colab": {},
    "colab_type": "code",
    "id": "ASDXGmB6K9tn"
   },
   "outputs": [],
   "source": []
  },
  {
   "cell_type": "code",
   "execution_count": 21,
   "metadata": {
    "colab": {},
    "colab_type": "code",
    "id": "VWp7_nGXL7mc"
   },
   "outputs": [
    {
     "name": "stdout",
     "output_type": "stream",
     "text": [
      "starting w b [[0.91177634]] [0.]\n",
      "At the end of training w and b  [[-6.02742709]] [35.17280161]\n"
     ]
    },
    {
     "data": {
      "text/plain": [
       "<bound method Figure.show of <Figure size 432x288 with 1 Axes>>"
      ]
     },
     "execution_count": 21,
     "metadata": {},
     "output_type": "execute_result"
    },
    {
     "data": {
      "image/png": "[encoded data removed]",
      "text/plain": [
       "<Figure size 432x288 with 1 Axes>"
      ]
     },
     "metadata": {
      "needs_background": "light"
     },
     "output_type": "display_data"
    },
    {
     "data": {
      "image/png": "[encoded data removed]",
      "text/plain": [
       "<Figure size 432x288 with 1 Axes>"
      ]
     },
     "metadata": {
      "needs_background": "light"
     },
     "output_type": "display_data"
    }
   ],
   "source": [
    "import pandas as pd\n",
    "import matplotlib.pyplot as plt\n",
    "import tensorflow as tf \n",
    "\n",
    "dfauto = pd.read_csv('C:/Users/xyz/Desktop/auto-mpg.data', delim_whitespace=True, header=0)\n",
    "\n",
    "dfauto.head\n",
    "#dfauto.columns = ['MPG','Cylinders','Displacement','Horsepower','Weight','Acceleration','Model_Year','Origin','Model']\n",
    "\n",
    "dfauto.describe()\n",
    "\n",
    "inputs0 = dfauto['Displacement'].apply(lambda x: x/100)\n",
    "targets0 = dfauto['MPG']\n",
    "\n",
    "inputs = tf.constant( inputs0.values.reshape(398,1), shape=(398,1), dtype=tf.float64)\n",
    "targets = tf.constant( targets0.values.reshape(398,1), shape=(398,1), dtype=tf.float64)\n",
    "\n",
    "\n",
    "w = tf.Variable(initial_value=tf.random.uniform(shape = (1,1), dtype=tf.float64 ))\n",
    "b = tf.Variable(initial_value=tf.zeros(shape=(1), dtype=tf.float64 ))\n",
    "\n",
    "def model(inputs) :\n",
    "  return tf.matmul(inputs, w) + b\n",
    "\n",
    "def mean_sq_loss(predictions, targets) :\n",
    "  sq_loss = tf.square(  targets - predictions )\n",
    "  return tf.reduce_mean ( sq_loss )\n",
    "\n",
    "learn_rate= 0.05\n",
    "\n",
    "def training (inputs, targets) :\n",
    " with tf.GradientTape( persistent=True) as g:\n",
    "    g.watch(w)\n",
    "    g.watch(b)\n",
    "    predictions = model( inputs)\n",
    "    #print(predictions)\n",
    "    loss = mean_sq_loss( predictions, targets )\n",
    " dl_dw = g.gradient(loss, w)\n",
    " dl_db = g.gradient(loss, b)\n",
    "\n",
    " w.assign_sub (dl_dw * learn_rate )\n",
    " b.assign_sub (dl_db * learn_rate )\n",
    " g.stop_recording\n",
    "  \n",
    " return loss\n",
    "\n",
    "loss_plot = []\n",
    "\n",
    "iter_plot = []\n",
    "\n",
    "print ( \"starting w b\", w.numpy(), b.numpy())\n",
    "\n",
    "for step in range(500) :         \n",
    " loss = training(inputs, targets)\n",
    " #print(\"Loss \", loss.numpy())\n",
    " loss_plot.append(loss)\n",
    " iter_plot.append(step)\n",
    " #print ( w.numpy(), b.numpy())\n",
    " \n",
    "print ( \"At the end of training w and b \",w.numpy(), b.numpy())\n",
    "\n",
    "fig1 = plt.figure(1)\n",
    "pre_y = model(inputs)\n",
    "plt.plot( dfauto['Displacement'], pre_y.numpy()[:,0], '-r')\n",
    "plt.scatter( dfauto['Displacement'], dfauto['MPG'])\n",
    "fig1.suptitle('MPG vs Displacement', fontsize=20)\n",
    "fig1.show\n",
    "\n",
    "fig2 = plt.figure(2)\n",
    "plt.plot(iter_plot, loss_plot)\n",
    "fig2.suptitle('Loss curve', fontsize=20)\n",
    "fig2.show\n",
    "\n"
   ]
  },
  {
   "cell_type": "code",
   "execution_count": null,
   "metadata": {},
   "outputs": [],
   "source": []
  }
 ],
 "metadata": {
  "colab": {
   "name": "Untitled3.ipynb",
   "provenance": []
  },
  "kernelspec": {
   "display_name": "Python 3 (ipykernel)",
   "language": "python",
   "name": "python3"
  },
  "language_info": {
   "codemirror_mode": {
    "name": "ipython",
    "version": 3
   },
   "file_extension": ".py",
   "mimetype": "text/x-python",
   "name": "python",
   "nbconvert_exporter": "python",
   "pygments_lexer": "ipython3",
   "version": "3.13.5"
  }
 },
 "nbformat": 4,
 "nbformat_minor": 4
}
